{
 "cells": [
  {
   "cell_type": "markdown",
   "metadata": {},
   "source": [
    "# Problem Statement\n",
    "Churn is a one of the biggest problem in the telecom industry. Research has shown that the average monthly churn rate among the top 4 wireless carriers in the US is 1.9% - 2%.\n",
    "\n",
    "\"Predict behavior to retain customers. You can analyze all relevant customer data and develop focused customer retention programs.\" [IBM Sample Data Sets]\n",
    "## Data information\n",
    "\n",
    "Each row represents a customer, each column contains customer’s attributes described on the column Metadata.\n",
    "\n",
    "### The data set includes information about:\n",
    "- Customers who left within the last month – the column is called Churn\n",
    "- Services that each customer has signed up for – phone, multiple lines, internet, online security, online backup, device   protection, tech support, and streaming TV and movies\n",
    "- Customer account information – how long they’ve been a customer, contract, payment method, paperless billing, monthly charges, and total charges\n",
    "- Demographic info about customers – gender, age range, and if they have partners and dependents"
   ]
  },
  {
   "cell_type": "markdown",
   "metadata": {},
   "source": [
    "First, Import the data stored in SQL Database.\n",
    "- make a odbc connection\n",
    "- read as a pandas Dataframe"
   ]
  },
  {
   "cell_type": "code",
   "execution_count": 1,
   "metadata": {},
   "outputs": [],
   "source": [
    "import pandas as pd\n",
    "import pyodbc \n",
    "conn = pyodbc.connect('Driver={SQL Server};'\n",
    "                      'Server=DESKTOP-FV1I7CQ;'\n",
    "                      \"uid=SanketDatabase;pwd=patil\")\n",
    "\n",
    "cursor = conn.cursor()\n",
    "\n",
    "df = pd.read_sql_query('Select * from [Telco Churn ].dbo.[Telco-Customer-Churn]',conn)"
   ]
  },
  {
   "cell_type": "markdown",
   "metadata": {},
   "source": [
    "Let's Look at the dataframe"
   ]
  },
  {
   "cell_type": "code",
   "execution_count": 2,
   "metadata": {},
   "outputs": [
    {
     "data": {
      "text/html": [
       "<div>\n",
       "<style scoped>\n",
       "    .dataframe tbody tr th:only-of-type {\n",
       "        vertical-align: middle;\n",
       "    }\n",
       "\n",
       "    .dataframe tbody tr th {\n",
       "        vertical-align: top;\n",
       "    }\n",
       "\n",
       "    .dataframe thead th {\n",
       "        text-align: right;\n",
       "    }\n",
       "</style>\n",
       "<table border=\"1\" class=\"dataframe\">\n",
       "  <thead>\n",
       "    <tr style=\"text-align: right;\">\n",
       "      <th></th>\n",
       "      <th>customerID</th>\n",
       "      <th>gender</th>\n",
       "      <th>SeniorCitizen</th>\n",
       "      <th>Partner</th>\n",
       "      <th>Dependents</th>\n",
       "      <th>tenure</th>\n",
       "      <th>PhoneService</th>\n",
       "      <th>MultipleLines</th>\n",
       "      <th>InternetService</th>\n",
       "      <th>OnlineSecurity</th>\n",
       "      <th>...</th>\n",
       "      <th>DeviceProtection</th>\n",
       "      <th>TechSupport</th>\n",
       "      <th>StreamingTV</th>\n",
       "      <th>StreamingMovies</th>\n",
       "      <th>Contract</th>\n",
       "      <th>PaperlessBilling</th>\n",
       "      <th>PaymentMethod</th>\n",
       "      <th>MonthlyCharges</th>\n",
       "      <th>TotalCharges</th>\n",
       "      <th>Churn</th>\n",
       "    </tr>\n",
       "  </thead>\n",
       "  <tbody>\n",
       "    <tr>\n",
       "      <th>0</th>\n",
       "      <td>7590-VHVEG</td>\n",
       "      <td>Female</td>\n",
       "      <td>0</td>\n",
       "      <td>Yes</td>\n",
       "      <td>No</td>\n",
       "      <td>1</td>\n",
       "      <td>No</td>\n",
       "      <td>No phone service</td>\n",
       "      <td>DSL</td>\n",
       "      <td>No</td>\n",
       "      <td>...</td>\n",
       "      <td>No</td>\n",
       "      <td>No</td>\n",
       "      <td>No</td>\n",
       "      <td>No</td>\n",
       "      <td>Month-to-month</td>\n",
       "      <td>Yes</td>\n",
       "      <td>Electronic check</td>\n",
       "      <td>29.85</td>\n",
       "      <td>29.85</td>\n",
       "      <td>No</td>\n",
       "    </tr>\n",
       "    <tr>\n",
       "      <th>1</th>\n",
       "      <td>5575-GNVDE</td>\n",
       "      <td>Male</td>\n",
       "      <td>0</td>\n",
       "      <td>No</td>\n",
       "      <td>No</td>\n",
       "      <td>34</td>\n",
       "      <td>Yes</td>\n",
       "      <td>No</td>\n",
       "      <td>DSL</td>\n",
       "      <td>Yes</td>\n",
       "      <td>...</td>\n",
       "      <td>Yes</td>\n",
       "      <td>No</td>\n",
       "      <td>No</td>\n",
       "      <td>No</td>\n",
       "      <td>One year</td>\n",
       "      <td>No</td>\n",
       "      <td>Mailed check</td>\n",
       "      <td>56.95</td>\n",
       "      <td>1889.50</td>\n",
       "      <td>No</td>\n",
       "    </tr>\n",
       "    <tr>\n",
       "      <th>2</th>\n",
       "      <td>3668-QPYBK</td>\n",
       "      <td>Male</td>\n",
       "      <td>0</td>\n",
       "      <td>No</td>\n",
       "      <td>No</td>\n",
       "      <td>2</td>\n",
       "      <td>Yes</td>\n",
       "      <td>No</td>\n",
       "      <td>DSL</td>\n",
       "      <td>Yes</td>\n",
       "      <td>...</td>\n",
       "      <td>No</td>\n",
       "      <td>No</td>\n",
       "      <td>No</td>\n",
       "      <td>No</td>\n",
       "      <td>Month-to-month</td>\n",
       "      <td>Yes</td>\n",
       "      <td>Mailed check</td>\n",
       "      <td>53.85</td>\n",
       "      <td>108.15</td>\n",
       "      <td>Yes</td>\n",
       "    </tr>\n",
       "    <tr>\n",
       "      <th>3</th>\n",
       "      <td>7795-CFOCW</td>\n",
       "      <td>Male</td>\n",
       "      <td>0</td>\n",
       "      <td>No</td>\n",
       "      <td>No</td>\n",
       "      <td>45</td>\n",
       "      <td>No</td>\n",
       "      <td>No phone service</td>\n",
       "      <td>DSL</td>\n",
       "      <td>Yes</td>\n",
       "      <td>...</td>\n",
       "      <td>Yes</td>\n",
       "      <td>Yes</td>\n",
       "      <td>No</td>\n",
       "      <td>No</td>\n",
       "      <td>One year</td>\n",
       "      <td>No</td>\n",
       "      <td>Bank transfer (automatic)</td>\n",
       "      <td>42.30</td>\n",
       "      <td>1840.75</td>\n",
       "      <td>No</td>\n",
       "    </tr>\n",
       "    <tr>\n",
       "      <th>4</th>\n",
       "      <td>9237-HQITU</td>\n",
       "      <td>Female</td>\n",
       "      <td>0</td>\n",
       "      <td>No</td>\n",
       "      <td>No</td>\n",
       "      <td>2</td>\n",
       "      <td>Yes</td>\n",
       "      <td>No</td>\n",
       "      <td>Fiber optic</td>\n",
       "      <td>No</td>\n",
       "      <td>...</td>\n",
       "      <td>No</td>\n",
       "      <td>No</td>\n",
       "      <td>No</td>\n",
       "      <td>No</td>\n",
       "      <td>Month-to-month</td>\n",
       "      <td>Yes</td>\n",
       "      <td>Electronic check</td>\n",
       "      <td>70.70</td>\n",
       "      <td>151.65</td>\n",
       "      <td>Yes</td>\n",
       "    </tr>\n",
       "  </tbody>\n",
       "</table>\n",
       "<p>5 rows × 21 columns</p>\n",
       "</div>"
      ],
      "text/plain": [
       "   customerID  gender SeniorCitizen Partner Dependents tenure PhoneService  \\\n",
       "0  7590-VHVEG  Female             0     Yes         No      1           No   \n",
       "1  5575-GNVDE    Male             0      No         No     34          Yes   \n",
       "2  3668-QPYBK    Male             0      No         No      2          Yes   \n",
       "3  7795-CFOCW    Male             0      No         No     45           No   \n",
       "4  9237-HQITU  Female             0      No         No      2          Yes   \n",
       "\n",
       "      MultipleLines InternetService OnlineSecurity  ... DeviceProtection  \\\n",
       "0  No phone service             DSL             No  ...               No   \n",
       "1                No             DSL            Yes  ...              Yes   \n",
       "2                No             DSL            Yes  ...               No   \n",
       "3  No phone service             DSL            Yes  ...              Yes   \n",
       "4                No     Fiber optic             No  ...               No   \n",
       "\n",
       "  TechSupport StreamingTV StreamingMovies        Contract PaperlessBilling  \\\n",
       "0          No          No              No  Month-to-month              Yes   \n",
       "1          No          No              No        One year               No   \n",
       "2          No          No              No  Month-to-month              Yes   \n",
       "3         Yes          No              No        One year               No   \n",
       "4          No          No              No  Month-to-month              Yes   \n",
       "\n",
       "               PaymentMethod MonthlyCharges  TotalCharges  Churn  \n",
       "0           Electronic check          29.85         29.85     No  \n",
       "1               Mailed check          56.95       1889.50     No  \n",
       "2               Mailed check          53.85        108.15    Yes  \n",
       "3  Bank transfer (automatic)          42.30       1840.75     No  \n",
       "4           Electronic check          70.70        151.65    Yes  \n",
       "\n",
       "[5 rows x 21 columns]"
      ]
     },
     "execution_count": 2,
     "metadata": {},
     "output_type": "execute_result"
    }
   ],
   "source": [
    "df.head()"
   ]
  },
  {
   "cell_type": "markdown",
   "metadata": {},
   "source": [
    "## Initial plan for data exploration\n",
    "- Overview the data\n",
    "- check datatypes of the features\n",
    "- check null values and take action\n",
    "- Feature Engineering (One-hot-encoding, skewness check)\n",
    "- Data Exploration (Visual Analysis)"
   ]
  },
  {
   "cell_type": "code",
   "execution_count": 3,
   "metadata": {},
   "outputs": [],
   "source": [
    "import numpy as np # linear algebra\n",
    "import matplotlib.pyplot as plt\n",
    "import seaborn as sns # For creating plots"
   ]
  },
  {
   "cell_type": "code",
   "execution_count": 4,
   "metadata": {},
   "outputs": [
    {
     "name": "stdout",
     "output_type": "stream",
     "text": [
      "(7043, 21)\n",
      "['customerID', 'gender', 'SeniorCitizen', 'Partner', 'Dependents', 'tenure', 'PhoneService', 'MultipleLines', 'InternetService', 'OnlineSecurity', 'OnlineBackup', 'DeviceProtection', 'TechSupport', 'StreamingTV', 'StreamingMovies', 'Contract', 'PaperlessBilling', 'PaymentMethod', 'MonthlyCharges', 'TotalCharges', 'Churn']\n"
     ]
    }
   ],
   "source": [
    "print(df.shape)\n",
    "print(df.columns.tolist())"
   ]
  },
  {
   "cell_type": "markdown",
   "metadata": {},
   "source": [
    "- We have 7043 customer data and 21 columns including target variable Churn\n",
    "- Now we should look at datatype for each column"
   ]
  },
  {
   "cell_type": "code",
   "execution_count": 5,
   "metadata": {},
   "outputs": [
    {
     "name": "stdout",
     "output_type": "stream",
     "text": [
      "customerID           object\n",
      "gender               object\n",
      "SeniorCitizen        object\n",
      "Partner              object\n",
      "Dependents           object\n",
      "tenure               object\n",
      "PhoneService         object\n",
      "MultipleLines        object\n",
      "InternetService      object\n",
      "OnlineSecurity       object\n",
      "OnlineBackup         object\n",
      "DeviceProtection     object\n",
      "TechSupport          object\n",
      "StreamingTV          object\n",
      "StreamingMovies      object\n",
      "Contract             object\n",
      "PaperlessBilling     object\n",
      "PaymentMethod        object\n",
      "MonthlyCharges      float64\n",
      "TotalCharges        float64\n",
      "Churn                object\n",
      "dtype: object\n"
     ]
    }
   ],
   "source": [
    "print(df.dtypes)"
   ]
  },
  {
   "cell_type": "markdown",
   "metadata": {},
   "source": [
    "- change the data type of tenure and seniorCitizen column\n",
    "- check null values "
   ]
  },
  {
   "cell_type": "code",
   "execution_count": 6,
   "metadata": {},
   "outputs": [
    {
     "data": {
      "text/plain": [
       "customerID           0\n",
       "gender               0\n",
       "SeniorCitizen        0\n",
       "Partner              0\n",
       "Dependents           0\n",
       "tenure               0\n",
       "PhoneService         0\n",
       "MultipleLines        0\n",
       "InternetService      0\n",
       "OnlineSecurity       0\n",
       "OnlineBackup         0\n",
       "DeviceProtection     0\n",
       "TechSupport          0\n",
       "StreamingTV          0\n",
       "StreamingMovies      0\n",
       "Contract             0\n",
       "PaperlessBilling     0\n",
       "PaymentMethod        0\n",
       "MonthlyCharges       0\n",
       "TotalCharges        11\n",
       "Churn                0\n",
       "dtype: int64"
      ]
     },
     "execution_count": 6,
     "metadata": {},
     "output_type": "execute_result"
    }
   ],
   "source": [
    "df.tenure = pd.to_numeric(df.tenure, errors='coerce')\n",
    "df.isnull().sum()"
   ]
  },
  {
   "cell_type": "markdown",
   "metadata": {},
   "source": [
    "## Feature engineering\n",
    "\n",
    "- Drop missing values\n",
    "- Customer ID is not going to help ML model; we must drop that coulmn\n",
    "- replace the churn values i.e Yes, No to 1,0"
   ]
  },
  {
   "cell_type": "code",
   "execution_count": 7,
   "metadata": {},
   "outputs": [
    {
     "data": {
      "text/html": [
       "<div>\n",
       "<style scoped>\n",
       "    .dataframe tbody tr th:only-of-type {\n",
       "        vertical-align: middle;\n",
       "    }\n",
       "\n",
       "    .dataframe tbody tr th {\n",
       "        vertical-align: top;\n",
       "    }\n",
       "\n",
       "    .dataframe thead th {\n",
       "        text-align: right;\n",
       "    }\n",
       "</style>\n",
       "<table border=\"1\" class=\"dataframe\">\n",
       "  <thead>\n",
       "    <tr style=\"text-align: right;\">\n",
       "      <th></th>\n",
       "      <th>gender</th>\n",
       "      <th>SeniorCitizen</th>\n",
       "      <th>Partner</th>\n",
       "      <th>Dependents</th>\n",
       "      <th>tenure</th>\n",
       "      <th>PhoneService</th>\n",
       "      <th>MultipleLines</th>\n",
       "      <th>InternetService</th>\n",
       "      <th>OnlineSecurity</th>\n",
       "      <th>OnlineBackup</th>\n",
       "      <th>DeviceProtection</th>\n",
       "      <th>TechSupport</th>\n",
       "      <th>StreamingTV</th>\n",
       "      <th>StreamingMovies</th>\n",
       "      <th>Contract</th>\n",
       "      <th>PaperlessBilling</th>\n",
       "      <th>PaymentMethod</th>\n",
       "      <th>MonthlyCharges</th>\n",
       "      <th>TotalCharges</th>\n",
       "      <th>Churn</th>\n",
       "    </tr>\n",
       "  </thead>\n",
       "  <tbody>\n",
       "    <tr>\n",
       "      <th>0</th>\n",
       "      <td>Female</td>\n",
       "      <td>No</td>\n",
       "      <td>Yes</td>\n",
       "      <td>No</td>\n",
       "      <td>1</td>\n",
       "      <td>No</td>\n",
       "      <td>No phone service</td>\n",
       "      <td>DSL</td>\n",
       "      <td>No</td>\n",
       "      <td>Yes</td>\n",
       "      <td>No</td>\n",
       "      <td>No</td>\n",
       "      <td>No</td>\n",
       "      <td>No</td>\n",
       "      <td>Month-to-month</td>\n",
       "      <td>Yes</td>\n",
       "      <td>Electronic check</td>\n",
       "      <td>29.85</td>\n",
       "      <td>29.85</td>\n",
       "      <td>0</td>\n",
       "    </tr>\n",
       "    <tr>\n",
       "      <th>1</th>\n",
       "      <td>Male</td>\n",
       "      <td>No</td>\n",
       "      <td>No</td>\n",
       "      <td>No</td>\n",
       "      <td>34</td>\n",
       "      <td>Yes</td>\n",
       "      <td>No</td>\n",
       "      <td>DSL</td>\n",
       "      <td>Yes</td>\n",
       "      <td>No</td>\n",
       "      <td>Yes</td>\n",
       "      <td>No</td>\n",
       "      <td>No</td>\n",
       "      <td>No</td>\n",
       "      <td>One year</td>\n",
       "      <td>No</td>\n",
       "      <td>Mailed check</td>\n",
       "      <td>56.95</td>\n",
       "      <td>1889.50</td>\n",
       "      <td>0</td>\n",
       "    </tr>\n",
       "    <tr>\n",
       "      <th>2</th>\n",
       "      <td>Male</td>\n",
       "      <td>No</td>\n",
       "      <td>No</td>\n",
       "      <td>No</td>\n",
       "      <td>2</td>\n",
       "      <td>Yes</td>\n",
       "      <td>No</td>\n",
       "      <td>DSL</td>\n",
       "      <td>Yes</td>\n",
       "      <td>Yes</td>\n",
       "      <td>No</td>\n",
       "      <td>No</td>\n",
       "      <td>No</td>\n",
       "      <td>No</td>\n",
       "      <td>Month-to-month</td>\n",
       "      <td>Yes</td>\n",
       "      <td>Mailed check</td>\n",
       "      <td>53.85</td>\n",
       "      <td>108.15</td>\n",
       "      <td>1</td>\n",
       "    </tr>\n",
       "    <tr>\n",
       "      <th>3</th>\n",
       "      <td>Male</td>\n",
       "      <td>No</td>\n",
       "      <td>No</td>\n",
       "      <td>No</td>\n",
       "      <td>45</td>\n",
       "      <td>No</td>\n",
       "      <td>No phone service</td>\n",
       "      <td>DSL</td>\n",
       "      <td>Yes</td>\n",
       "      <td>No</td>\n",
       "      <td>Yes</td>\n",
       "      <td>Yes</td>\n",
       "      <td>No</td>\n",
       "      <td>No</td>\n",
       "      <td>One year</td>\n",
       "      <td>No</td>\n",
       "      <td>Bank transfer (automatic)</td>\n",
       "      <td>42.30</td>\n",
       "      <td>1840.75</td>\n",
       "      <td>0</td>\n",
       "    </tr>\n",
       "    <tr>\n",
       "      <th>4</th>\n",
       "      <td>Female</td>\n",
       "      <td>No</td>\n",
       "      <td>No</td>\n",
       "      <td>No</td>\n",
       "      <td>2</td>\n",
       "      <td>Yes</td>\n",
       "      <td>No</td>\n",
       "      <td>Fiber optic</td>\n",
       "      <td>No</td>\n",
       "      <td>No</td>\n",
       "      <td>No</td>\n",
       "      <td>No</td>\n",
       "      <td>No</td>\n",
       "      <td>No</td>\n",
       "      <td>Month-to-month</td>\n",
       "      <td>Yes</td>\n",
       "      <td>Electronic check</td>\n",
       "      <td>70.70</td>\n",
       "      <td>151.65</td>\n",
       "      <td>1</td>\n",
       "    </tr>\n",
       "  </tbody>\n",
       "</table>\n",
       "</div>"
      ],
      "text/plain": [
       "   gender SeniorCitizen Partner Dependents  tenure PhoneService  \\\n",
       "0  Female            No     Yes         No       1           No   \n",
       "1    Male            No      No         No      34          Yes   \n",
       "2    Male            No      No         No       2          Yes   \n",
       "3    Male            No      No         No      45           No   \n",
       "4  Female            No      No         No       2          Yes   \n",
       "\n",
       "      MultipleLines InternetService OnlineSecurity OnlineBackup  \\\n",
       "0  No phone service             DSL             No          Yes   \n",
       "1                No             DSL            Yes           No   \n",
       "2                No             DSL            Yes          Yes   \n",
       "3  No phone service             DSL            Yes           No   \n",
       "4                No     Fiber optic             No           No   \n",
       "\n",
       "  DeviceProtection TechSupport StreamingTV StreamingMovies        Contract  \\\n",
       "0               No          No          No              No  Month-to-month   \n",
       "1              Yes          No          No              No        One year   \n",
       "2               No          No          No              No  Month-to-month   \n",
       "3              Yes         Yes          No              No        One year   \n",
       "4               No          No          No              No  Month-to-month   \n",
       "\n",
       "  PaperlessBilling              PaymentMethod  MonthlyCharges  TotalCharges  \\\n",
       "0              Yes           Electronic check           29.85         29.85   \n",
       "1               No               Mailed check           56.95       1889.50   \n",
       "2              Yes               Mailed check           53.85        108.15   \n",
       "3               No  Bank transfer (automatic)           42.30       1840.75   \n",
       "4              Yes           Electronic check           70.70        151.65   \n",
       "\n",
       "   Churn  \n",
       "0      0  \n",
       "1      0  \n",
       "2      1  \n",
       "3      0  \n",
       "4      1  "
      ]
     },
     "execution_count": 7,
     "metadata": {},
     "output_type": "execute_result"
    }
   ],
   "source": [
    "df.dropna(inplace = True)\n",
    "df2 = df.iloc[:,1:]\n",
    "\n",
    "df2['Churn'] = df2['Churn'].replace(['Yes', 'No'], [1, 0])\n",
    "df2['SeniorCitizen'] = df2['SeniorCitizen'].replace(['1','0'], ['Yes', 'No'])\n",
    "df2.head()"
   ]
  },
  {
   "cell_type": "code",
   "execution_count": 8,
   "metadata": {},
   "outputs": [
    {
     "data": {
      "text/html": [
       "<div>\n",
       "<style scoped>\n",
       "    .dataframe tbody tr th:only-of-type {\n",
       "        vertical-align: middle;\n",
       "    }\n",
       "\n",
       "    .dataframe tbody tr th {\n",
       "        vertical-align: top;\n",
       "    }\n",
       "\n",
       "    .dataframe thead th {\n",
       "        text-align: right;\n",
       "    }\n",
       "</style>\n",
       "<table border=\"1\" class=\"dataframe\">\n",
       "  <thead>\n",
       "    <tr style=\"text-align: right;\">\n",
       "      <th></th>\n",
       "      <th>count</th>\n",
       "      <th>unique</th>\n",
       "      <th>top</th>\n",
       "      <th>freq</th>\n",
       "    </tr>\n",
       "  </thead>\n",
       "  <tbody>\n",
       "    <tr>\n",
       "      <th>gender</th>\n",
       "      <td>7032</td>\n",
       "      <td>2</td>\n",
       "      <td>Male</td>\n",
       "      <td>3549</td>\n",
       "    </tr>\n",
       "    <tr>\n",
       "      <th>SeniorCitizen</th>\n",
       "      <td>7032</td>\n",
       "      <td>2</td>\n",
       "      <td>No</td>\n",
       "      <td>5890</td>\n",
       "    </tr>\n",
       "    <tr>\n",
       "      <th>Partner</th>\n",
       "      <td>7032</td>\n",
       "      <td>2</td>\n",
       "      <td>No</td>\n",
       "      <td>3639</td>\n",
       "    </tr>\n",
       "    <tr>\n",
       "      <th>Dependents</th>\n",
       "      <td>7032</td>\n",
       "      <td>2</td>\n",
       "      <td>No</td>\n",
       "      <td>4933</td>\n",
       "    </tr>\n",
       "    <tr>\n",
       "      <th>PhoneService</th>\n",
       "      <td>7032</td>\n",
       "      <td>2</td>\n",
       "      <td>Yes</td>\n",
       "      <td>6352</td>\n",
       "    </tr>\n",
       "    <tr>\n",
       "      <th>MultipleLines</th>\n",
       "      <td>7032</td>\n",
       "      <td>3</td>\n",
       "      <td>No</td>\n",
       "      <td>3385</td>\n",
       "    </tr>\n",
       "    <tr>\n",
       "      <th>InternetService</th>\n",
       "      <td>7032</td>\n",
       "      <td>3</td>\n",
       "      <td>Fiber optic</td>\n",
       "      <td>3096</td>\n",
       "    </tr>\n",
       "    <tr>\n",
       "      <th>OnlineSecurity</th>\n",
       "      <td>7032</td>\n",
       "      <td>3</td>\n",
       "      <td>No</td>\n",
       "      <td>3497</td>\n",
       "    </tr>\n",
       "    <tr>\n",
       "      <th>OnlineBackup</th>\n",
       "      <td>7032</td>\n",
       "      <td>3</td>\n",
       "      <td>No</td>\n",
       "      <td>3087</td>\n",
       "    </tr>\n",
       "    <tr>\n",
       "      <th>DeviceProtection</th>\n",
       "      <td>7032</td>\n",
       "      <td>3</td>\n",
       "      <td>No</td>\n",
       "      <td>3094</td>\n",
       "    </tr>\n",
       "    <tr>\n",
       "      <th>TechSupport</th>\n",
       "      <td>7032</td>\n",
       "      <td>3</td>\n",
       "      <td>No</td>\n",
       "      <td>3472</td>\n",
       "    </tr>\n",
       "    <tr>\n",
       "      <th>StreamingTV</th>\n",
       "      <td>7032</td>\n",
       "      <td>3</td>\n",
       "      <td>No</td>\n",
       "      <td>2809</td>\n",
       "    </tr>\n",
       "    <tr>\n",
       "      <th>StreamingMovies</th>\n",
       "      <td>7032</td>\n",
       "      <td>3</td>\n",
       "      <td>No</td>\n",
       "      <td>2781</td>\n",
       "    </tr>\n",
       "    <tr>\n",
       "      <th>Contract</th>\n",
       "      <td>7032</td>\n",
       "      <td>3</td>\n",
       "      <td>Month-to-month</td>\n",
       "      <td>3875</td>\n",
       "    </tr>\n",
       "    <tr>\n",
       "      <th>PaperlessBilling</th>\n",
       "      <td>7032</td>\n",
       "      <td>2</td>\n",
       "      <td>Yes</td>\n",
       "      <td>4168</td>\n",
       "    </tr>\n",
       "    <tr>\n",
       "      <th>PaymentMethod</th>\n",
       "      <td>7032</td>\n",
       "      <td>4</td>\n",
       "      <td>Electronic check</td>\n",
       "      <td>2365</td>\n",
       "    </tr>\n",
       "  </tbody>\n",
       "</table>\n",
       "</div>"
      ],
      "text/plain": [
       "                 count unique               top  freq\n",
       "gender            7032      2              Male  3549\n",
       "SeniorCitizen     7032      2                No  5890\n",
       "Partner           7032      2                No  3639\n",
       "Dependents        7032      2                No  4933\n",
       "PhoneService      7032      2               Yes  6352\n",
       "MultipleLines     7032      3                No  3385\n",
       "InternetService   7032      3       Fiber optic  3096\n",
       "OnlineSecurity    7032      3                No  3497\n",
       "OnlineBackup      7032      3                No  3087\n",
       "DeviceProtection  7032      3                No  3094\n",
       "TechSupport       7032      3                No  3472\n",
       "StreamingTV       7032      3                No  2809\n",
       "StreamingMovies   7032      3                No  2781\n",
       "Contract          7032      3    Month-to-month  3875\n",
       "PaperlessBilling  7032      2               Yes  4168\n",
       "PaymentMethod     7032      4  Electronic check  2365"
      ]
     },
     "execution_count": 8,
     "metadata": {},
     "output_type": "execute_result"
    }
   ],
   "source": [
    "df2.describe(include='object').T"
   ]
  },
  {
   "cell_type": "markdown",
   "metadata": {},
   "source": [
    "- Identify which variables are binary, categorical and not ordinal, categorical and ordinal, and numeric. The non-numeric features will need to be encoded."
   ]
  },
  {
   "cell_type": "code",
   "execution_count": 9,
   "metadata": {},
   "outputs": [
    {
     "data": {
      "text/html": [
       "<div>\n",
       "<style scoped>\n",
       "    .dataframe tbody tr th:only-of-type {\n",
       "        vertical-align: middle;\n",
       "    }\n",
       "\n",
       "    .dataframe tbody tr th {\n",
       "        vertical-align: top;\n",
       "    }\n",
       "\n",
       "    .dataframe thead th {\n",
       "        text-align: right;\n",
       "    }\n",
       "</style>\n",
       "<table border=\"1\" class=\"dataframe\">\n",
       "  <thead>\n",
       "    <tr style=\"text-align: right;\">\n",
       "      <th></th>\n",
       "      <th>Unique Values</th>\n",
       "    </tr>\n",
       "    <tr>\n",
       "      <th>Variable</th>\n",
       "      <th></th>\n",
       "    </tr>\n",
       "  </thead>\n",
       "  <tbody>\n",
       "    <tr>\n",
       "      <th>gender</th>\n",
       "      <td>2</td>\n",
       "    </tr>\n",
       "    <tr>\n",
       "      <th>SeniorCitizen</th>\n",
       "      <td>2</td>\n",
       "    </tr>\n",
       "    <tr>\n",
       "      <th>Partner</th>\n",
       "      <td>2</td>\n",
       "    </tr>\n",
       "    <tr>\n",
       "      <th>Dependents</th>\n",
       "      <td>2</td>\n",
       "    </tr>\n",
       "    <tr>\n",
       "      <th>tenure</th>\n",
       "      <td>72</td>\n",
       "    </tr>\n",
       "    <tr>\n",
       "      <th>PhoneService</th>\n",
       "      <td>2</td>\n",
       "    </tr>\n",
       "    <tr>\n",
       "      <th>MultipleLines</th>\n",
       "      <td>3</td>\n",
       "    </tr>\n",
       "    <tr>\n",
       "      <th>InternetService</th>\n",
       "      <td>3</td>\n",
       "    </tr>\n",
       "    <tr>\n",
       "      <th>OnlineSecurity</th>\n",
       "      <td>3</td>\n",
       "    </tr>\n",
       "    <tr>\n",
       "      <th>OnlineBackup</th>\n",
       "      <td>3</td>\n",
       "    </tr>\n",
       "    <tr>\n",
       "      <th>DeviceProtection</th>\n",
       "      <td>3</td>\n",
       "    </tr>\n",
       "    <tr>\n",
       "      <th>TechSupport</th>\n",
       "      <td>3</td>\n",
       "    </tr>\n",
       "    <tr>\n",
       "      <th>StreamingTV</th>\n",
       "      <td>3</td>\n",
       "    </tr>\n",
       "    <tr>\n",
       "      <th>StreamingMovies</th>\n",
       "      <td>3</td>\n",
       "    </tr>\n",
       "    <tr>\n",
       "      <th>Contract</th>\n",
       "      <td>3</td>\n",
       "    </tr>\n",
       "    <tr>\n",
       "      <th>PaperlessBilling</th>\n",
       "      <td>2</td>\n",
       "    </tr>\n",
       "    <tr>\n",
       "      <th>PaymentMethod</th>\n",
       "      <td>4</td>\n",
       "    </tr>\n",
       "    <tr>\n",
       "      <th>MonthlyCharges</th>\n",
       "      <td>1584</td>\n",
       "    </tr>\n",
       "    <tr>\n",
       "      <th>TotalCharges</th>\n",
       "      <td>6530</td>\n",
       "    </tr>\n",
       "    <tr>\n",
       "      <th>Churn</th>\n",
       "      <td>2</td>\n",
       "    </tr>\n",
       "  </tbody>\n",
       "</table>\n",
       "</div>"
      ],
      "text/plain": [
       "                  Unique Values\n",
       "Variable                       \n",
       "gender                        2\n",
       "SeniorCitizen                 2\n",
       "Partner                       2\n",
       "Dependents                    2\n",
       "tenure                       72\n",
       "PhoneService                  2\n",
       "MultipleLines                 3\n",
       "InternetService               3\n",
       "OnlineSecurity                3\n",
       "OnlineBackup                  3\n",
       "DeviceProtection              3\n",
       "TechSupport                   3\n",
       "StreamingTV                   3\n",
       "StreamingMovies               3\n",
       "Contract                      3\n",
       "PaperlessBilling              2\n",
       "PaymentMethod                 4\n",
       "MonthlyCharges             1584\n",
       "TotalCharges               6530\n",
       "Churn                         2"
      ]
     },
     "execution_count": 9,
     "metadata": {},
     "output_type": "execute_result"
    }
   ],
   "source": [
    "df_uniques = pd.DataFrame([[i, len(df2[i].unique())] for i in df2.columns], columns=['Variable', 'Unique Values']).set_index('Variable')\n",
    "df_uniques"
   ]
  },
  {
   "cell_type": "markdown",
   "metadata": {},
   "source": [
    "- Create a list of binary freatures"
   ]
  },
  {
   "cell_type": "code",
   "execution_count": 10,
   "metadata": {},
   "outputs": [
    {
     "data": {
      "text/plain": [
       "['gender',\n",
       " 'SeniorCitizen',\n",
       " 'Partner',\n",
       " 'Dependents',\n",
       " 'PhoneService',\n",
       " 'PaperlessBilling',\n",
       " 'Churn']"
      ]
     },
     "execution_count": 10,
     "metadata": {},
     "output_type": "execute_result"
    }
   ],
   "source": [
    "binary_variables = list(df_uniques[df_uniques['Unique Values'] == 2].index)\n",
    "binary_variables"
   ]
  },
  {
   "cell_type": "markdown",
   "metadata": {},
   "source": [
    "- Create a list of categorical freatures"
   ]
  },
  {
   "cell_type": "code",
   "execution_count": 11,
   "metadata": {},
   "outputs": [
    {
     "data": {
      "text/plain": [
       "['MultipleLines',\n",
       " 'InternetService',\n",
       " 'OnlineSecurity',\n",
       " 'OnlineBackup',\n",
       " 'DeviceProtection',\n",
       " 'TechSupport',\n",
       " 'StreamingTV',\n",
       " 'StreamingMovies',\n",
       " 'Contract',\n",
       " 'PaymentMethod']"
      ]
     },
     "execution_count": 11,
     "metadata": {},
     "output_type": "execute_result"
    }
   ],
   "source": [
    "categorical_variables = list(df_uniques[(4 >= df_uniques['Unique Values']) & (df_uniques['Unique Values'] > 2)].index)\n",
    "categorical_variables"
   ]
  },
  {
   "cell_type": "markdown",
   "metadata": {},
   "source": [
    "- check the unique levels in categorical features"
   ]
  },
  {
   "cell_type": "code",
   "execution_count": 12,
   "metadata": {},
   "outputs": [
    {
     "data": {
      "text/plain": [
       "[['MultipleLines', ['No phone service', 'No', 'Yes']],\n",
       " ['InternetService', ['DSL', 'Fiber optic', 'No']],\n",
       " ['OnlineSecurity', ['No', 'Yes', 'No internet service']],\n",
       " ['OnlineBackup', ['Yes', 'No', 'No internet service']],\n",
       " ['DeviceProtection', ['No', 'Yes', 'No internet service']],\n",
       " ['TechSupport', ['No', 'Yes', 'No internet service']],\n",
       " ['StreamingTV', ['No', 'Yes', 'No internet service']],\n",
       " ['StreamingMovies', ['No', 'Yes', 'No internet service']],\n",
       " ['Contract', ['Month-to-month', 'One year', 'Two year']],\n",
       " ['PaymentMethod',\n",
       "  ['Electronic check',\n",
       "   'Mailed check',\n",
       "   'Bank transfer (automatic)',\n",
       "   'Credit card (automatic)']]]"
      ]
     },
     "execution_count": 12,
     "metadata": {},
     "output_type": "execute_result"
    }
   ],
   "source": [
    "[[i, list(df[i].unique())] for i in categorical_variables]"
   ]
  },
  {
   "cell_type": "markdown",
   "metadata": {},
   "source": [
    "- create a list of ordinal catagorical features"
   ]
  },
  {
   "cell_type": "code",
   "execution_count": 13,
   "metadata": {},
   "outputs": [],
   "source": [
    "ordinal_variables = ['Contract']"
   ]
  },
  {
   "cell_type": "markdown",
   "metadata": {},
   "source": [
    "- Create a list of Numeric freatures"
   ]
  },
  {
   "cell_type": "code",
   "execution_count": 14,
   "metadata": {},
   "outputs": [
    {
     "name": "stdout",
     "output_type": "stream",
     "text": [
      "['MonthlyCharges', 'TotalCharges', 'tenure']\n"
     ]
    }
   ],
   "source": [
    "numeric_variables = list(set(df2.columns) - set(ordinal_variables) - set(categorical_variables) - set(binary_variables))\n",
    "print(numeric_variables)"
   ]
  },
  {
   "cell_type": "markdown",
   "metadata": {},
   "source": [
    "- check the skewness of the Numerical features"
   ]
  },
  {
   "cell_type": "code",
   "execution_count": 15,
   "metadata": {},
   "outputs": [
    {
     "data": {
      "text/plain": [
       "array([[<AxesSubplot:title={'center':'MonthlyCharges'}>,\n",
       "        <AxesSubplot:title={'center':'TotalCharges'}>],\n",
       "       [<AxesSubplot:title={'center':'tenure'}>, <AxesSubplot:>]],\n",
       "      dtype=object)"
      ]
     },
     "execution_count": 15,
     "metadata": {},
     "output_type": "execute_result"
    },
    {
     "data": {
      "image/png": "[encoded data removed]",
      "text/plain": [
       "<Figure size 864x432 with 4 Axes>"
      ]
     },
     "metadata": {
      "needs_background": "light"
     },
     "output_type": "display_data"
    }
   ],
   "source": [
    "df2[numeric_variables].hist(figsize=(12, 6))"
   ]
  },
  {
   "cell_type": "code",
   "execution_count": 16,
   "metadata": {},
   "outputs": [
    {
     "name": "stdout",
     "output_type": "stream",
     "text": [
      "MonthlyCharges = -0.22205554798978874\n",
      "TotalCharges = 0.9614373590490068\n",
      "tenure = 0.23768011839839964\n"
     ]
    }
   ],
   "source": [
    "from scipy.stats import skew \n",
    "for i in numeric_variables:\n",
    "    print(i + \" =\", skew(df2[i])) # log1p,sqrt,cbrt"
   ]
  },
  {
   "cell_type": "code",
   "execution_count": 17,
   "metadata": {},
   "outputs": [
    {
     "data": {
      "text/plain": [
       "<AxesSubplot:>"
      ]
     },
     "execution_count": 17,
     "metadata": {},
     "output_type": "execute_result"
    },
    {
     "data": {
      "image/png": "[encoded data removed]",
      "text/plain": [
       "<Figure size 432x288 with 1 Axes>"
      ]
     },
     "metadata": {
      "needs_background": "light"
     },
     "output_type": "display_data"
    }
   ],
   "source": [
    "np.cbrt(df2['TotalCharges']).hist()"
   ]
  },
  {
   "cell_type": "code",
   "execution_count": 18,
   "metadata": {},
   "outputs": [],
   "source": [
    "df2['TotalCharges']= np.cbrt(df2['TotalCharges'])"
   ]
  },
  {
   "cell_type": "markdown",
   "metadata": {},
   "source": [
    "- convert ordinal features in numeric levels respectively"
   ]
  },
  {
   "cell_type": "code",
   "execution_count": 19,
   "metadata": {},
   "outputs": [],
   "source": [
    "from sklearn.preprocessing import LabelBinarizer, LabelEncoder, OrdinalEncoder\n",
    "lb, le = LabelBinarizer(), LabelEncoder()"
   ]
  },
  {
   "cell_type": "code",
   "execution_count": 20,
   "metadata": {},
   "outputs": [
    {
     "data": {
      "text/html": [
       "<div>\n",
       "<style scoped>\n",
       "    .dataframe tbody tr th:only-of-type {\n",
       "        vertical-align: middle;\n",
       "    }\n",
       "\n",
       "    .dataframe tbody tr th {\n",
       "        vertical-align: top;\n",
       "    }\n",
       "\n",
       "    .dataframe thead th {\n",
       "        text-align: right;\n",
       "    }\n",
       "</style>\n",
       "<table border=\"1\" class=\"dataframe\">\n",
       "  <thead>\n",
       "    <tr style=\"text-align: right;\">\n",
       "      <th></th>\n",
       "      <th>Contract</th>\n",
       "    </tr>\n",
       "  </thead>\n",
       "  <tbody>\n",
       "    <tr>\n",
       "      <th>count</th>\n",
       "      <td>7032</td>\n",
       "    </tr>\n",
       "    <tr>\n",
       "      <th>unique</th>\n",
       "      <td>3</td>\n",
       "    </tr>\n",
       "    <tr>\n",
       "      <th>top</th>\n",
       "      <td>0</td>\n",
       "    </tr>\n",
       "    <tr>\n",
       "      <th>freq</th>\n",
       "      <td>3875</td>\n",
       "    </tr>\n",
       "  </tbody>\n",
       "</table>\n",
       "</div>"
      ],
      "text/plain": [
       "        Contract\n",
       "count       7032\n",
       "unique         3\n",
       "top            0\n",
       "freq        3875"
      ]
     },
     "execution_count": 20,
     "metadata": {},
     "output_type": "execute_result"
    }
   ],
   "source": [
    "for column in ordinal_variables:\n",
    "    df2[column] = le.fit_transform(df2[column])\n",
    "\n",
    "df2[ordinal_variables].astype('category').describe()"
   ]
  },
  {
   "cell_type": "code",
   "execution_count": 21,
   "metadata": {},
   "outputs": [
    {
     "data": {
      "text/html": [
       "<div>\n",
       "<style scoped>\n",
       "    .dataframe tbody tr th:only-of-type {\n",
       "        vertical-align: middle;\n",
       "    }\n",
       "\n",
       "    .dataframe tbody tr th {\n",
       "        vertical-align: top;\n",
       "    }\n",
       "\n",
       "    .dataframe thead th {\n",
       "        text-align: right;\n",
       "    }\n",
       "</style>\n",
       "<table border=\"1\" class=\"dataframe\">\n",
       "  <thead>\n",
       "    <tr style=\"text-align: right;\">\n",
       "      <th></th>\n",
       "      <th>gender</th>\n",
       "      <th>SeniorCitizen</th>\n",
       "      <th>Partner</th>\n",
       "      <th>Dependents</th>\n",
       "      <th>PhoneService</th>\n",
       "      <th>PaperlessBilling</th>\n",
       "      <th>Churn</th>\n",
       "    </tr>\n",
       "  </thead>\n",
       "  <tbody>\n",
       "    <tr>\n",
       "      <th>count</th>\n",
       "      <td>7032.000000</td>\n",
       "      <td>7032.000000</td>\n",
       "      <td>7032.000000</td>\n",
       "      <td>7032.000000</td>\n",
       "      <td>7032.000000</td>\n",
       "      <td>7032.000000</td>\n",
       "      <td>7032.000000</td>\n",
       "    </tr>\n",
       "    <tr>\n",
       "      <th>mean</th>\n",
       "      <td>0.504693</td>\n",
       "      <td>0.162400</td>\n",
       "      <td>0.482509</td>\n",
       "      <td>0.298493</td>\n",
       "      <td>0.903299</td>\n",
       "      <td>0.592719</td>\n",
       "      <td>0.265785</td>\n",
       "    </tr>\n",
       "    <tr>\n",
       "      <th>std</th>\n",
       "      <td>0.500014</td>\n",
       "      <td>0.368844</td>\n",
       "      <td>0.499729</td>\n",
       "      <td>0.457629</td>\n",
       "      <td>0.295571</td>\n",
       "      <td>0.491363</td>\n",
       "      <td>0.441782</td>\n",
       "    </tr>\n",
       "    <tr>\n",
       "      <th>min</th>\n",
       "      <td>0.000000</td>\n",
       "      <td>0.000000</td>\n",
       "      <td>0.000000</td>\n",
       "      <td>0.000000</td>\n",
       "      <td>0.000000</td>\n",
       "      <td>0.000000</td>\n",
       "      <td>0.000000</td>\n",
       "    </tr>\n",
       "    <tr>\n",
       "      <th>25%</th>\n",
       "      <td>0.000000</td>\n",
       "      <td>0.000000</td>\n",
       "      <td>0.000000</td>\n",
       "      <td>0.000000</td>\n",
       "      <td>1.000000</td>\n",
       "      <td>0.000000</td>\n",
       "      <td>0.000000</td>\n",
       "    </tr>\n",
       "    <tr>\n",
       "      <th>50%</th>\n",
       "      <td>1.000000</td>\n",
       "      <td>0.000000</td>\n",
       "      <td>0.000000</td>\n",
       "      <td>0.000000</td>\n",
       "      <td>1.000000</td>\n",
       "      <td>1.000000</td>\n",
       "      <td>0.000000</td>\n",
       "    </tr>\n",
       "    <tr>\n",
       "      <th>75%</th>\n",
       "      <td>1.000000</td>\n",
       "      <td>0.000000</td>\n",
       "      <td>1.000000</td>\n",
       "      <td>1.000000</td>\n",
       "      <td>1.000000</td>\n",
       "      <td>1.000000</td>\n",
       "      <td>1.000000</td>\n",
       "    </tr>\n",
       "    <tr>\n",
       "      <th>max</th>\n",
       "      <td>1.000000</td>\n",
       "      <td>1.000000</td>\n",
       "      <td>1.000000</td>\n",
       "      <td>1.000000</td>\n",
       "      <td>1.000000</td>\n",
       "      <td>1.000000</td>\n",
       "      <td>1.000000</td>\n",
       "    </tr>\n",
       "  </tbody>\n",
       "</table>\n",
       "</div>"
      ],
      "text/plain": [
       "            gender  SeniorCitizen      Partner   Dependents  PhoneService  \\\n",
       "count  7032.000000    7032.000000  7032.000000  7032.000000   7032.000000   \n",
       "mean      0.504693       0.162400     0.482509     0.298493      0.903299   \n",
       "std       0.500014       0.368844     0.499729     0.457629      0.295571   \n",
       "min       0.000000       0.000000     0.000000     0.000000      0.000000   \n",
       "25%       0.000000       0.000000     0.000000     0.000000      1.000000   \n",
       "50%       1.000000       0.000000     0.000000     0.000000      1.000000   \n",
       "75%       1.000000       0.000000     1.000000     1.000000      1.000000   \n",
       "max       1.000000       1.000000     1.000000     1.000000      1.000000   \n",
       "\n",
       "       PaperlessBilling        Churn  \n",
       "count       7032.000000  7032.000000  \n",
       "mean           0.592719     0.265785  \n",
       "std            0.491363     0.441782  \n",
       "min            0.000000     0.000000  \n",
       "25%            0.000000     0.000000  \n",
       "50%            1.000000     0.000000  \n",
       "75%            1.000000     1.000000  \n",
       "max            1.000000     1.000000  "
      ]
     },
     "execution_count": 21,
     "metadata": {},
     "output_type": "execute_result"
    }
   ],
   "source": [
    "for column in binary_variables:\n",
    "    df2[column] = lb.fit_transform(df2[column])\n",
    "\n",
    "df2[binary_variables].describe()"
   ]
  },
  {
   "cell_type": "code",
   "execution_count": 22,
   "metadata": {},
   "outputs": [],
   "source": [
    "categorical_variables = list(set(categorical_variables) - set(ordinal_variables))"
   ]
  },
  {
   "cell_type": "code",
   "execution_count": 23,
   "metadata": {},
   "outputs": [],
   "source": [
    "df = pd.get_dummies(df2, columns = categorical_variables, drop_first=True)"
   ]
  },
  {
   "cell_type": "code",
   "execution_count": 24,
   "metadata": {},
   "outputs": [
    {
     "data": {
      "text/html": [
       "<div>\n",
       "<style scoped>\n",
       "    .dataframe tbody tr th:only-of-type {\n",
       "        vertical-align: middle;\n",
       "    }\n",
       "\n",
       "    .dataframe tbody tr th {\n",
       "        vertical-align: top;\n",
       "    }\n",
       "\n",
       "    .dataframe thead th {\n",
       "        text-align: right;\n",
       "    }\n",
       "</style>\n",
       "<table border=\"1\" class=\"dataframe\">\n",
       "  <thead>\n",
       "    <tr style=\"text-align: right;\">\n",
       "      <th></th>\n",
       "      <th>count</th>\n",
       "      <th>mean</th>\n",
       "      <th>std</th>\n",
       "      <th>min</th>\n",
       "      <th>25%</th>\n",
       "      <th>50%</th>\n",
       "      <th>75%</th>\n",
       "      <th>max</th>\n",
       "    </tr>\n",
       "  </thead>\n",
       "  <tbody>\n",
       "    <tr>\n",
       "      <th>gender</th>\n",
       "      <td>7032.0</td>\n",
       "      <td>0.504693</td>\n",
       "      <td>0.500014</td>\n",
       "      <td>0.000000</td>\n",
       "      <td>0.000000</td>\n",
       "      <td>1.00000</td>\n",
       "      <td>1.000000</td>\n",
       "      <td>1.000000</td>\n",
       "    </tr>\n",
       "    <tr>\n",
       "      <th>SeniorCitizen</th>\n",
       "      <td>7032.0</td>\n",
       "      <td>0.162400</td>\n",
       "      <td>0.368844</td>\n",
       "      <td>0.000000</td>\n",
       "      <td>0.000000</td>\n",
       "      <td>0.00000</td>\n",
       "      <td>0.000000</td>\n",
       "      <td>1.000000</td>\n",
       "    </tr>\n",
       "    <tr>\n",
       "      <th>Partner</th>\n",
       "      <td>7032.0</td>\n",
       "      <td>0.482509</td>\n",
       "      <td>0.499729</td>\n",
       "      <td>0.000000</td>\n",
       "      <td>0.000000</td>\n",
       "      <td>0.00000</td>\n",
       "      <td>1.000000</td>\n",
       "      <td>1.000000</td>\n",
       "    </tr>\n",
       "    <tr>\n",
       "      <th>Dependents</th>\n",
       "      <td>7032.0</td>\n",
       "      <td>0.298493</td>\n",
       "      <td>0.457629</td>\n",
       "      <td>0.000000</td>\n",
       "      <td>0.000000</td>\n",
       "      <td>0.00000</td>\n",
       "      <td>1.000000</td>\n",
       "      <td>1.000000</td>\n",
       "    </tr>\n",
       "    <tr>\n",
       "      <th>tenure</th>\n",
       "      <td>7032.0</td>\n",
       "      <td>32.421786</td>\n",
       "      <td>24.545260</td>\n",
       "      <td>1.000000</td>\n",
       "      <td>9.000000</td>\n",
       "      <td>29.00000</td>\n",
       "      <td>55.000000</td>\n",
       "      <td>72.000000</td>\n",
       "    </tr>\n",
       "    <tr>\n",
       "      <th>PhoneService</th>\n",
       "      <td>7032.0</td>\n",
       "      <td>0.903299</td>\n",
       "      <td>0.295571</td>\n",
       "      <td>0.000000</td>\n",
       "      <td>1.000000</td>\n",
       "      <td>1.00000</td>\n",
       "      <td>1.000000</td>\n",
       "      <td>1.000000</td>\n",
       "    </tr>\n",
       "    <tr>\n",
       "      <th>Contract</th>\n",
       "      <td>7032.0</td>\n",
       "      <td>0.688567</td>\n",
       "      <td>0.832934</td>\n",
       "      <td>0.000000</td>\n",
       "      <td>0.000000</td>\n",
       "      <td>0.00000</td>\n",
       "      <td>1.000000</td>\n",
       "      <td>2.000000</td>\n",
       "    </tr>\n",
       "    <tr>\n",
       "      <th>PaperlessBilling</th>\n",
       "      <td>7032.0</td>\n",
       "      <td>0.592719</td>\n",
       "      <td>0.491363</td>\n",
       "      <td>0.000000</td>\n",
       "      <td>0.000000</td>\n",
       "      <td>1.00000</td>\n",
       "      <td>1.000000</td>\n",
       "      <td>1.000000</td>\n",
       "    </tr>\n",
       "    <tr>\n",
       "      <th>MonthlyCharges</th>\n",
       "      <td>7032.0</td>\n",
       "      <td>64.798208</td>\n",
       "      <td>30.085974</td>\n",
       "      <td>18.250000</td>\n",
       "      <td>35.587500</td>\n",
       "      <td>70.35000</td>\n",
       "      <td>89.862500</td>\n",
       "      <td>118.750000</td>\n",
       "    </tr>\n",
       "    <tr>\n",
       "      <th>TotalCharges</th>\n",
       "      <td>7032.0</td>\n",
       "      <td>11.355248</td>\n",
       "      <td>4.899482</td>\n",
       "      <td>2.659006</td>\n",
       "      <td>7.376955</td>\n",
       "      <td>11.18016</td>\n",
       "      <td>15.597701</td>\n",
       "      <td>20.555116</td>\n",
       "    </tr>\n",
       "    <tr>\n",
       "      <th>Churn</th>\n",
       "      <td>7032.0</td>\n",
       "      <td>0.265785</td>\n",
       "      <td>0.441782</td>\n",
       "      <td>0.000000</td>\n",
       "      <td>0.000000</td>\n",
       "      <td>0.00000</td>\n",
       "      <td>1.000000</td>\n",
       "      <td>1.000000</td>\n",
       "    </tr>\n",
       "    <tr>\n",
       "      <th>OnlineSecurity_No internet service</th>\n",
       "      <td>7032.0</td>\n",
       "      <td>0.216155</td>\n",
       "      <td>0.411650</td>\n",
       "      <td>0.000000</td>\n",
       "      <td>0.000000</td>\n",
       "      <td>0.00000</td>\n",
       "      <td>0.000000</td>\n",
       "      <td>1.000000</td>\n",
       "    </tr>\n",
       "    <tr>\n",
       "      <th>OnlineSecurity_Yes</th>\n",
       "      <td>7032.0</td>\n",
       "      <td>0.286547</td>\n",
       "      <td>0.452180</td>\n",
       "      <td>0.000000</td>\n",
       "      <td>0.000000</td>\n",
       "      <td>0.00000</td>\n",
       "      <td>1.000000</td>\n",
       "      <td>1.000000</td>\n",
       "    </tr>\n",
       "    <tr>\n",
       "      <th>MultipleLines_No phone service</th>\n",
       "      <td>7032.0</td>\n",
       "      <td>0.096701</td>\n",
       "      <td>0.295571</td>\n",
       "      <td>0.000000</td>\n",
       "      <td>0.000000</td>\n",
       "      <td>0.00000</td>\n",
       "      <td>0.000000</td>\n",
       "      <td>1.000000</td>\n",
       "    </tr>\n",
       "    <tr>\n",
       "      <th>MultipleLines_Yes</th>\n",
       "      <td>7032.0</td>\n",
       "      <td>0.421928</td>\n",
       "      <td>0.493902</td>\n",
       "      <td>0.000000</td>\n",
       "      <td>0.000000</td>\n",
       "      <td>0.00000</td>\n",
       "      <td>1.000000</td>\n",
       "      <td>1.000000</td>\n",
       "    </tr>\n",
       "    <tr>\n",
       "      <th>InternetService_Fiber optic</th>\n",
       "      <td>7032.0</td>\n",
       "      <td>0.440273</td>\n",
       "      <td>0.496455</td>\n",
       "      <td>0.000000</td>\n",
       "      <td>0.000000</td>\n",
       "      <td>0.00000</td>\n",
       "      <td>1.000000</td>\n",
       "      <td>1.000000</td>\n",
       "    </tr>\n",
       "    <tr>\n",
       "      <th>InternetService_No</th>\n",
       "      <td>7032.0</td>\n",
       "      <td>0.216155</td>\n",
       "      <td>0.411650</td>\n",
       "      <td>0.000000</td>\n",
       "      <td>0.000000</td>\n",
       "      <td>0.00000</td>\n",
       "      <td>0.000000</td>\n",
       "      <td>1.000000</td>\n",
       "    </tr>\n",
       "    <tr>\n",
       "      <th>StreamingMovies_No internet service</th>\n",
       "      <td>7032.0</td>\n",
       "      <td>0.216155</td>\n",
       "      <td>0.411650</td>\n",
       "      <td>0.000000</td>\n",
       "      <td>0.000000</td>\n",
       "      <td>0.00000</td>\n",
       "      <td>0.000000</td>\n",
       "      <td>1.000000</td>\n",
       "    </tr>\n",
       "    <tr>\n",
       "      <th>StreamingMovies_Yes</th>\n",
       "      <td>7032.0</td>\n",
       "      <td>0.388367</td>\n",
       "      <td>0.487414</td>\n",
       "      <td>0.000000</td>\n",
       "      <td>0.000000</td>\n",
       "      <td>0.00000</td>\n",
       "      <td>1.000000</td>\n",
       "      <td>1.000000</td>\n",
       "    </tr>\n",
       "    <tr>\n",
       "      <th>TechSupport_No internet service</th>\n",
       "      <td>7032.0</td>\n",
       "      <td>0.216155</td>\n",
       "      <td>0.411650</td>\n",
       "      <td>0.000000</td>\n",
       "      <td>0.000000</td>\n",
       "      <td>0.00000</td>\n",
       "      <td>0.000000</td>\n",
       "      <td>1.000000</td>\n",
       "    </tr>\n",
       "    <tr>\n",
       "      <th>TechSupport_Yes</th>\n",
       "      <td>7032.0</td>\n",
       "      <td>0.290102</td>\n",
       "      <td>0.453842</td>\n",
       "      <td>0.000000</td>\n",
       "      <td>0.000000</td>\n",
       "      <td>0.00000</td>\n",
       "      <td>1.000000</td>\n",
       "      <td>1.000000</td>\n",
       "    </tr>\n",
       "    <tr>\n",
       "      <th>PaymentMethod_Credit card (automatic)</th>\n",
       "      <td>7032.0</td>\n",
       "      <td>0.216297</td>\n",
       "      <td>0.411748</td>\n",
       "      <td>0.000000</td>\n",
       "      <td>0.000000</td>\n",
       "      <td>0.00000</td>\n",
       "      <td>0.000000</td>\n",
       "      <td>1.000000</td>\n",
       "    </tr>\n",
       "    <tr>\n",
       "      <th>PaymentMethod_Electronic check</th>\n",
       "      <td>7032.0</td>\n",
       "      <td>0.336320</td>\n",
       "      <td>0.472483</td>\n",
       "      <td>0.000000</td>\n",
       "      <td>0.000000</td>\n",
       "      <td>0.00000</td>\n",
       "      <td>1.000000</td>\n",
       "      <td>1.000000</td>\n",
       "    </tr>\n",
       "    <tr>\n",
       "      <th>PaymentMethod_Mailed check</th>\n",
       "      <td>7032.0</td>\n",
       "      <td>0.228100</td>\n",
       "      <td>0.419637</td>\n",
       "      <td>0.000000</td>\n",
       "      <td>0.000000</td>\n",
       "      <td>0.00000</td>\n",
       "      <td>0.000000</td>\n",
       "      <td>1.000000</td>\n",
       "    </tr>\n",
       "    <tr>\n",
       "      <th>OnlineBackup_No internet service</th>\n",
       "      <td>7032.0</td>\n",
       "      <td>0.216155</td>\n",
       "      <td>0.411650</td>\n",
       "      <td>0.000000</td>\n",
       "      <td>0.000000</td>\n",
       "      <td>0.00000</td>\n",
       "      <td>0.000000</td>\n",
       "      <td>1.000000</td>\n",
       "    </tr>\n",
       "    <tr>\n",
       "      <th>OnlineBackup_Yes</th>\n",
       "      <td>7032.0</td>\n",
       "      <td>0.344852</td>\n",
       "      <td>0.475354</td>\n",
       "      <td>0.000000</td>\n",
       "      <td>0.000000</td>\n",
       "      <td>0.00000</td>\n",
       "      <td>1.000000</td>\n",
       "      <td>1.000000</td>\n",
       "    </tr>\n",
       "    <tr>\n",
       "      <th>StreamingTV_No internet service</th>\n",
       "      <td>7032.0</td>\n",
       "      <td>0.216155</td>\n",
       "      <td>0.411650</td>\n",
       "      <td>0.000000</td>\n",
       "      <td>0.000000</td>\n",
       "      <td>0.00000</td>\n",
       "      <td>0.000000</td>\n",
       "      <td>1.000000</td>\n",
       "    </tr>\n",
       "    <tr>\n",
       "      <th>StreamingTV_Yes</th>\n",
       "      <td>7032.0</td>\n",
       "      <td>0.384386</td>\n",
       "      <td>0.486484</td>\n",
       "      <td>0.000000</td>\n",
       "      <td>0.000000</td>\n",
       "      <td>0.00000</td>\n",
       "      <td>1.000000</td>\n",
       "      <td>1.000000</td>\n",
       "    </tr>\n",
       "    <tr>\n",
       "      <th>DeviceProtection_No internet service</th>\n",
       "      <td>7032.0</td>\n",
       "      <td>0.216155</td>\n",
       "      <td>0.411650</td>\n",
       "      <td>0.000000</td>\n",
       "      <td>0.000000</td>\n",
       "      <td>0.00000</td>\n",
       "      <td>0.000000</td>\n",
       "      <td>1.000000</td>\n",
       "    </tr>\n",
       "    <tr>\n",
       "      <th>DeviceProtection_Yes</th>\n",
       "      <td>7032.0</td>\n",
       "      <td>0.343857</td>\n",
       "      <td>0.475028</td>\n",
       "      <td>0.000000</td>\n",
       "      <td>0.000000</td>\n",
       "      <td>0.00000</td>\n",
       "      <td>1.000000</td>\n",
       "      <td>1.000000</td>\n",
       "    </tr>\n",
       "  </tbody>\n",
       "</table>\n",
       "</div>"
      ],
      "text/plain": [
       "                                        count       mean        std  \\\n",
       "gender                                 7032.0   0.504693   0.500014   \n",
       "SeniorCitizen                          7032.0   0.162400   0.368844   \n",
       "Partner                                7032.0   0.482509   0.499729   \n",
       "Dependents                             7032.0   0.298493   0.457629   \n",
       "tenure                                 7032.0  32.421786  24.545260   \n",
       "PhoneService                           7032.0   0.903299   0.295571   \n",
       "Contract                               7032.0   0.688567   0.832934   \n",
       "PaperlessBilling                       7032.0   0.592719   0.491363   \n",
       "MonthlyCharges                         7032.0  64.798208  30.085974   \n",
       "TotalCharges                           7032.0  11.355248   4.899482   \n",
       "Churn                                  7032.0   0.265785   0.441782   \n",
       "OnlineSecurity_No internet service     7032.0   0.216155   0.411650   \n",
       "OnlineSecurity_Yes                     7032.0   0.286547   0.452180   \n",
       "MultipleLines_No phone service         7032.0   0.096701   0.295571   \n",
       "MultipleLines_Yes                      7032.0   0.421928   0.493902   \n",
       "InternetService_Fiber optic            7032.0   0.440273   0.496455   \n",
       "InternetService_No                     7032.0   0.216155   0.411650   \n",
       "StreamingMovies_No internet service    7032.0   0.216155   0.411650   \n",
       "StreamingMovies_Yes                    7032.0   0.388367   0.487414   \n",
       "TechSupport_No internet service        7032.0   0.216155   0.411650   \n",
       "TechSupport_Yes                        7032.0   0.290102   0.453842   \n",
       "PaymentMethod_Credit card (automatic)  7032.0   0.216297   0.411748   \n",
       "PaymentMethod_Electronic check         7032.0   0.336320   0.472483   \n",
       "PaymentMethod_Mailed check             7032.0   0.228100   0.419637   \n",
       "OnlineBackup_No internet service       7032.0   0.216155   0.411650   \n",
       "OnlineBackup_Yes                       7032.0   0.344852   0.475354   \n",
       "StreamingTV_No internet service        7032.0   0.216155   0.411650   \n",
       "StreamingTV_Yes                        7032.0   0.384386   0.486484   \n",
       "DeviceProtection_No internet service   7032.0   0.216155   0.411650   \n",
       "DeviceProtection_Yes                   7032.0   0.343857   0.475028   \n",
       "\n",
       "                                             min        25%       50%  \\\n",
       "gender                                  0.000000   0.000000   1.00000   \n",
       "SeniorCitizen                           0.000000   0.000000   0.00000   \n",
       "Partner                                 0.000000   0.000000   0.00000   \n",
       "Dependents                              0.000000   0.000000   0.00000   \n",
       "tenure                                  1.000000   9.000000  29.00000   \n",
       "PhoneService                            0.000000   1.000000   1.00000   \n",
       "Contract                                0.000000   0.000000   0.00000   \n",
       "PaperlessBilling                        0.000000   0.000000   1.00000   \n",
       "MonthlyCharges                         18.250000  35.587500  70.35000   \n",
       "TotalCharges                            2.659006   7.376955  11.18016   \n",
       "Churn                                   0.000000   0.000000   0.00000   \n",
       "OnlineSecurity_No internet service      0.000000   0.000000   0.00000   \n",
       "OnlineSecurity_Yes                      0.000000   0.000000   0.00000   \n",
       "MultipleLines_No phone service          0.000000   0.000000   0.00000   \n",
       "MultipleLines_Yes                       0.000000   0.000000   0.00000   \n",
       "InternetService_Fiber optic             0.000000   0.000000   0.00000   \n",
       "InternetService_No                      0.000000   0.000000   0.00000   \n",
       "StreamingMovies_No internet service     0.000000   0.000000   0.00000   \n",
       "StreamingMovies_Yes                     0.000000   0.000000   0.00000   \n",
       "TechSupport_No internet service         0.000000   0.000000   0.00000   \n",
       "TechSupport_Yes                         0.000000   0.000000   0.00000   \n",
       "PaymentMethod_Credit card (automatic)   0.000000   0.000000   0.00000   \n",
       "PaymentMethod_Electronic check          0.000000   0.000000   0.00000   \n",
       "PaymentMethod_Mailed check              0.000000   0.000000   0.00000   \n",
       "OnlineBackup_No internet service        0.000000   0.000000   0.00000   \n",
       "OnlineBackup_Yes                        0.000000   0.000000   0.00000   \n",
       "StreamingTV_No internet service         0.000000   0.000000   0.00000   \n",
       "StreamingTV_Yes                         0.000000   0.000000   0.00000   \n",
       "DeviceProtection_No internet service    0.000000   0.000000   0.00000   \n",
       "DeviceProtection_Yes                    0.000000   0.000000   0.00000   \n",
       "\n",
       "                                             75%         max  \n",
       "gender                                  1.000000    1.000000  \n",
       "SeniorCitizen                           0.000000    1.000000  \n",
       "Partner                                 1.000000    1.000000  \n",
       "Dependents                              1.000000    1.000000  \n",
       "tenure                                 55.000000   72.000000  \n",
       "PhoneService                            1.000000    1.000000  \n",
       "Contract                                1.000000    2.000000  \n",
       "PaperlessBilling                        1.000000    1.000000  \n",
       "MonthlyCharges                         89.862500  118.750000  \n",
       "TotalCharges                           15.597701   20.555116  \n",
       "Churn                                   1.000000    1.000000  \n",
       "OnlineSecurity_No internet service      0.000000    1.000000  \n",
       "OnlineSecurity_Yes                      1.000000    1.000000  \n",
       "MultipleLines_No phone service          0.000000    1.000000  \n",
       "MultipleLines_Yes                       1.000000    1.000000  \n",
       "InternetService_Fiber optic             1.000000    1.000000  \n",
       "InternetService_No                      0.000000    1.000000  \n",
       "StreamingMovies_No internet service     0.000000    1.000000  \n",
       "StreamingMovies_Yes                     1.000000    1.000000  \n",
       "TechSupport_No internet service         0.000000    1.000000  \n",
       "TechSupport_Yes                         1.000000    1.000000  \n",
       "PaymentMethod_Credit card (automatic)   0.000000    1.000000  \n",
       "PaymentMethod_Electronic check          1.000000    1.000000  \n",
       "PaymentMethod_Mailed check              0.000000    1.000000  \n",
       "OnlineBackup_No internet service        0.000000    1.000000  \n",
       "OnlineBackup_Yes                        1.000000    1.000000  \n",
       "StreamingTV_No internet service         0.000000    1.000000  \n",
       "StreamingTV_Yes                         1.000000    1.000000  \n",
       "DeviceProtection_No internet service    0.000000    1.000000  \n",
       "DeviceProtection_Yes                    1.000000    1.000000  "
      ]
     },
     "execution_count": 24,
     "metadata": {},
     "output_type": "execute_result"
    }
   ],
   "source": [
    "df.describe().T"
   ]
  },
  {
   "cell_type": "code",
   "execution_count": 25,
   "metadata": {},
   "outputs": [
    {
     "data": {
      "text/html": [
       "<div>\n",
       "<style scoped>\n",
       "    .dataframe tbody tr th:only-of-type {\n",
       "        vertical-align: middle;\n",
       "    }\n",
       "\n",
       "    .dataframe tbody tr th {\n",
       "        vertical-align: top;\n",
       "    }\n",
       "\n",
       "    .dataframe thead th {\n",
       "        text-align: right;\n",
       "    }\n",
       "</style>\n",
       "<table border=\"1\" class=\"dataframe\">\n",
       "  <thead>\n",
       "    <tr style=\"text-align: right;\">\n",
       "      <th></th>\n",
       "      <th>count</th>\n",
       "      <th>mean</th>\n",
       "      <th>std</th>\n",
       "      <th>min</th>\n",
       "      <th>25%</th>\n",
       "      <th>50%</th>\n",
       "      <th>75%</th>\n",
       "      <th>max</th>\n",
       "    </tr>\n",
       "  </thead>\n",
       "  <tbody>\n",
       "    <tr>\n",
       "      <th>gender</th>\n",
       "      <td>7032.0</td>\n",
       "      <td>0.505</td>\n",
       "      <td>0.500</td>\n",
       "      <td>0.0</td>\n",
       "      <td>0.000</td>\n",
       "      <td>1.000</td>\n",
       "      <td>1.000</td>\n",
       "      <td>1.0</td>\n",
       "    </tr>\n",
       "    <tr>\n",
       "      <th>SeniorCitizen</th>\n",
       "      <td>7032.0</td>\n",
       "      <td>0.162</td>\n",
       "      <td>0.369</td>\n",
       "      <td>0.0</td>\n",
       "      <td>0.000</td>\n",
       "      <td>0.000</td>\n",
       "      <td>0.000</td>\n",
       "      <td>1.0</td>\n",
       "    </tr>\n",
       "    <tr>\n",
       "      <th>Partner</th>\n",
       "      <td>7032.0</td>\n",
       "      <td>0.483</td>\n",
       "      <td>0.500</td>\n",
       "      <td>0.0</td>\n",
       "      <td>0.000</td>\n",
       "      <td>0.000</td>\n",
       "      <td>1.000</td>\n",
       "      <td>1.0</td>\n",
       "    </tr>\n",
       "    <tr>\n",
       "      <th>Dependents</th>\n",
       "      <td>7032.0</td>\n",
       "      <td>0.298</td>\n",
       "      <td>0.458</td>\n",
       "      <td>0.0</td>\n",
       "      <td>0.000</td>\n",
       "      <td>0.000</td>\n",
       "      <td>1.000</td>\n",
       "      <td>1.0</td>\n",
       "    </tr>\n",
       "    <tr>\n",
       "      <th>tenure</th>\n",
       "      <td>7032.0</td>\n",
       "      <td>0.443</td>\n",
       "      <td>0.346</td>\n",
       "      <td>0.0</td>\n",
       "      <td>0.113</td>\n",
       "      <td>0.394</td>\n",
       "      <td>0.761</td>\n",
       "      <td>1.0</td>\n",
       "    </tr>\n",
       "    <tr>\n",
       "      <th>PhoneService</th>\n",
       "      <td>7032.0</td>\n",
       "      <td>0.903</td>\n",
       "      <td>0.296</td>\n",
       "      <td>0.0</td>\n",
       "      <td>1.000</td>\n",
       "      <td>1.000</td>\n",
       "      <td>1.000</td>\n",
       "      <td>1.0</td>\n",
       "    </tr>\n",
       "    <tr>\n",
       "      <th>Contract</th>\n",
       "      <td>7032.0</td>\n",
       "      <td>0.344</td>\n",
       "      <td>0.416</td>\n",
       "      <td>0.0</td>\n",
       "      <td>0.000</td>\n",
       "      <td>0.000</td>\n",
       "      <td>0.500</td>\n",
       "      <td>1.0</td>\n",
       "    </tr>\n",
       "    <tr>\n",
       "      <th>PaperlessBilling</th>\n",
       "      <td>7032.0</td>\n",
       "      <td>0.593</td>\n",
       "      <td>0.491</td>\n",
       "      <td>0.0</td>\n",
       "      <td>0.000</td>\n",
       "      <td>1.000</td>\n",
       "      <td>1.000</td>\n",
       "      <td>1.0</td>\n",
       "    </tr>\n",
       "    <tr>\n",
       "      <th>MonthlyCharges</th>\n",
       "      <td>7032.0</td>\n",
       "      <td>0.463</td>\n",
       "      <td>0.299</td>\n",
       "      <td>0.0</td>\n",
       "      <td>0.173</td>\n",
       "      <td>0.518</td>\n",
       "      <td>0.713</td>\n",
       "      <td>1.0</td>\n",
       "    </tr>\n",
       "    <tr>\n",
       "      <th>TotalCharges</th>\n",
       "      <td>7032.0</td>\n",
       "      <td>0.486</td>\n",
       "      <td>0.274</td>\n",
       "      <td>0.0</td>\n",
       "      <td>0.264</td>\n",
       "      <td>0.476</td>\n",
       "      <td>0.723</td>\n",
       "      <td>1.0</td>\n",
       "    </tr>\n",
       "    <tr>\n",
       "      <th>Churn</th>\n",
       "      <td>7032.0</td>\n",
       "      <td>0.266</td>\n",
       "      <td>0.442</td>\n",
       "      <td>0.0</td>\n",
       "      <td>0.000</td>\n",
       "      <td>0.000</td>\n",
       "      <td>1.000</td>\n",
       "      <td>1.0</td>\n",
       "    </tr>\n",
       "    <tr>\n",
       "      <th>OnlineSecurity_No internet service</th>\n",
       "      <td>7032.0</td>\n",
       "      <td>0.216</td>\n",
       "      <td>0.412</td>\n",
       "      <td>0.0</td>\n",
       "      <td>0.000</td>\n",
       "      <td>0.000</td>\n",
       "      <td>0.000</td>\n",
       "      <td>1.0</td>\n",
       "    </tr>\n",
       "    <tr>\n",
       "      <th>OnlineSecurity_Yes</th>\n",
       "      <td>7032.0</td>\n",
       "      <td>0.287</td>\n",
       "      <td>0.452</td>\n",
       "      <td>0.0</td>\n",
       "      <td>0.000</td>\n",
       "      <td>0.000</td>\n",
       "      <td>1.000</td>\n",
       "      <td>1.0</td>\n",
       "    </tr>\n",
       "    <tr>\n",
       "      <th>MultipleLines_No phone service</th>\n",
       "      <td>7032.0</td>\n",
       "      <td>0.097</td>\n",
       "      <td>0.296</td>\n",
       "      <td>0.0</td>\n",
       "      <td>0.000</td>\n",
       "      <td>0.000</td>\n",
       "      <td>0.000</td>\n",
       "      <td>1.0</td>\n",
       "    </tr>\n",
       "    <tr>\n",
       "      <th>MultipleLines_Yes</th>\n",
       "      <td>7032.0</td>\n",
       "      <td>0.422</td>\n",
       "      <td>0.494</td>\n",
       "      <td>0.0</td>\n",
       "      <td>0.000</td>\n",
       "      <td>0.000</td>\n",
       "      <td>1.000</td>\n",
       "      <td>1.0</td>\n",
       "    </tr>\n",
       "    <tr>\n",
       "      <th>InternetService_Fiber optic</th>\n",
       "      <td>7032.0</td>\n",
       "      <td>0.440</td>\n",
       "      <td>0.496</td>\n",
       "      <td>0.0</td>\n",
       "      <td>0.000</td>\n",
       "      <td>0.000</td>\n",
       "      <td>1.000</td>\n",
       "      <td>1.0</td>\n",
       "    </tr>\n",
       "    <tr>\n",
       "      <th>InternetService_No</th>\n",
       "      <td>7032.0</td>\n",
       "      <td>0.216</td>\n",
       "      <td>0.412</td>\n",
       "      <td>0.0</td>\n",
       "      <td>0.000</td>\n",
       "      <td>0.000</td>\n",
       "      <td>0.000</td>\n",
       "      <td>1.0</td>\n",
       "    </tr>\n",
       "    <tr>\n",
       "      <th>StreamingMovies_No internet service</th>\n",
       "      <td>7032.0</td>\n",
       "      <td>0.216</td>\n",
       "      <td>0.412</td>\n",
       "      <td>0.0</td>\n",
       "      <td>0.000</td>\n",
       "      <td>0.000</td>\n",
       "      <td>0.000</td>\n",
       "      <td>1.0</td>\n",
       "    </tr>\n",
       "    <tr>\n",
       "      <th>StreamingMovies_Yes</th>\n",
       "      <td>7032.0</td>\n",
       "      <td>0.388</td>\n",
       "      <td>0.487</td>\n",
       "      <td>0.0</td>\n",
       "      <td>0.000</td>\n",
       "      <td>0.000</td>\n",
       "      <td>1.000</td>\n",
       "      <td>1.0</td>\n",
       "    </tr>\n",
       "    <tr>\n",
       "      <th>TechSupport_No internet service</th>\n",
       "      <td>7032.0</td>\n",
       "      <td>0.216</td>\n",
       "      <td>0.412</td>\n",
       "      <td>0.0</td>\n",
       "      <td>0.000</td>\n",
       "      <td>0.000</td>\n",
       "      <td>0.000</td>\n",
       "      <td>1.0</td>\n",
       "    </tr>\n",
       "    <tr>\n",
       "      <th>TechSupport_Yes</th>\n",
       "      <td>7032.0</td>\n",
       "      <td>0.290</td>\n",
       "      <td>0.454</td>\n",
       "      <td>0.0</td>\n",
       "      <td>0.000</td>\n",
       "      <td>0.000</td>\n",
       "      <td>1.000</td>\n",
       "      <td>1.0</td>\n",
       "    </tr>\n",
       "    <tr>\n",
       "      <th>PaymentMethod_Credit card (automatic)</th>\n",
       "      <td>7032.0</td>\n",
       "      <td>0.216</td>\n",
       "      <td>0.412</td>\n",
       "      <td>0.0</td>\n",
       "      <td>0.000</td>\n",
       "      <td>0.000</td>\n",
       "      <td>0.000</td>\n",
       "      <td>1.0</td>\n",
       "    </tr>\n",
       "    <tr>\n",
       "      <th>PaymentMethod_Electronic check</th>\n",
       "      <td>7032.0</td>\n",
       "      <td>0.336</td>\n",
       "      <td>0.472</td>\n",
       "      <td>0.0</td>\n",
       "      <td>0.000</td>\n",
       "      <td>0.000</td>\n",
       "      <td>1.000</td>\n",
       "      <td>1.0</td>\n",
       "    </tr>\n",
       "    <tr>\n",
       "      <th>PaymentMethod_Mailed check</th>\n",
       "      <td>7032.0</td>\n",
       "      <td>0.228</td>\n",
       "      <td>0.420</td>\n",
       "      <td>0.0</td>\n",
       "      <td>0.000</td>\n",
       "      <td>0.000</td>\n",
       "      <td>0.000</td>\n",
       "      <td>1.0</td>\n",
       "    </tr>\n",
       "    <tr>\n",
       "      <th>OnlineBackup_No internet service</th>\n",
       "      <td>7032.0</td>\n",
       "      <td>0.216</td>\n",
       "      <td>0.412</td>\n",
       "      <td>0.0</td>\n",
       "      <td>0.000</td>\n",
       "      <td>0.000</td>\n",
       "      <td>0.000</td>\n",
       "      <td>1.0</td>\n",
       "    </tr>\n",
       "    <tr>\n",
       "      <th>OnlineBackup_Yes</th>\n",
       "      <td>7032.0</td>\n",
       "      <td>0.345</td>\n",
       "      <td>0.475</td>\n",
       "      <td>0.0</td>\n",
       "      <td>0.000</td>\n",
       "      <td>0.000</td>\n",
       "      <td>1.000</td>\n",
       "      <td>1.0</td>\n",
       "    </tr>\n",
       "    <tr>\n",
       "      <th>StreamingTV_No internet service</th>\n",
       "      <td>7032.0</td>\n",
       "      <td>0.216</td>\n",
       "      <td>0.412</td>\n",
       "      <td>0.0</td>\n",
       "      <td>0.000</td>\n",
       "      <td>0.000</td>\n",
       "      <td>0.000</td>\n",
       "      <td>1.0</td>\n",
       "    </tr>\n",
       "    <tr>\n",
       "      <th>StreamingTV_Yes</th>\n",
       "      <td>7032.0</td>\n",
       "      <td>0.384</td>\n",
       "      <td>0.486</td>\n",
       "      <td>0.0</td>\n",
       "      <td>0.000</td>\n",
       "      <td>0.000</td>\n",
       "      <td>1.000</td>\n",
       "      <td>1.0</td>\n",
       "    </tr>\n",
       "    <tr>\n",
       "      <th>DeviceProtection_No internet service</th>\n",
       "      <td>7032.0</td>\n",
       "      <td>0.216</td>\n",
       "      <td>0.412</td>\n",
       "      <td>0.0</td>\n",
       "      <td>0.000</td>\n",
       "      <td>0.000</td>\n",
       "      <td>0.000</td>\n",
       "      <td>1.0</td>\n",
       "    </tr>\n",
       "    <tr>\n",
       "      <th>DeviceProtection_Yes</th>\n",
       "      <td>7032.0</td>\n",
       "      <td>0.344</td>\n",
       "      <td>0.475</td>\n",
       "      <td>0.0</td>\n",
       "      <td>0.000</td>\n",
       "      <td>0.000</td>\n",
       "      <td>1.000</td>\n",
       "      <td>1.0</td>\n",
       "    </tr>\n",
       "  </tbody>\n",
       "</table>\n",
       "</div>"
      ],
      "text/plain": [
       "                                        count   mean    std  min    25%  \\\n",
       "gender                                 7032.0  0.505  0.500  0.0  0.000   \n",
       "SeniorCitizen                          7032.0  0.162  0.369  0.0  0.000   \n",
       "Partner                                7032.0  0.483  0.500  0.0  0.000   \n",
       "Dependents                             7032.0  0.298  0.458  0.0  0.000   \n",
       "tenure                                 7032.0  0.443  0.346  0.0  0.113   \n",
       "PhoneService                           7032.0  0.903  0.296  0.0  1.000   \n",
       "Contract                               7032.0  0.344  0.416  0.0  0.000   \n",
       "PaperlessBilling                       7032.0  0.593  0.491  0.0  0.000   \n",
       "MonthlyCharges                         7032.0  0.463  0.299  0.0  0.173   \n",
       "TotalCharges                           7032.0  0.486  0.274  0.0  0.264   \n",
       "Churn                                  7032.0  0.266  0.442  0.0  0.000   \n",
       "OnlineSecurity_No internet service     7032.0  0.216  0.412  0.0  0.000   \n",
       "OnlineSecurity_Yes                     7032.0  0.287  0.452  0.0  0.000   \n",
       "MultipleLines_No phone service         7032.0  0.097  0.296  0.0  0.000   \n",
       "MultipleLines_Yes                      7032.0  0.422  0.494  0.0  0.000   \n",
       "InternetService_Fiber optic            7032.0  0.440  0.496  0.0  0.000   \n",
       "InternetService_No                     7032.0  0.216  0.412  0.0  0.000   \n",
       "StreamingMovies_No internet service    7032.0  0.216  0.412  0.0  0.000   \n",
       "StreamingMovies_Yes                    7032.0  0.388  0.487  0.0  0.000   \n",
       "TechSupport_No internet service        7032.0  0.216  0.412  0.0  0.000   \n",
       "TechSupport_Yes                        7032.0  0.290  0.454  0.0  0.000   \n",
       "PaymentMethod_Credit card (automatic)  7032.0  0.216  0.412  0.0  0.000   \n",
       "PaymentMethod_Electronic check         7032.0  0.336  0.472  0.0  0.000   \n",
       "PaymentMethod_Mailed check             7032.0  0.228  0.420  0.0  0.000   \n",
       "OnlineBackup_No internet service       7032.0  0.216  0.412  0.0  0.000   \n",
       "OnlineBackup_Yes                       7032.0  0.345  0.475  0.0  0.000   \n",
       "StreamingTV_No internet service        7032.0  0.216  0.412  0.0  0.000   \n",
       "StreamingTV_Yes                        7032.0  0.384  0.486  0.0  0.000   \n",
       "DeviceProtection_No internet service   7032.0  0.216  0.412  0.0  0.000   \n",
       "DeviceProtection_Yes                   7032.0  0.344  0.475  0.0  0.000   \n",
       "\n",
       "                                         50%    75%  max  \n",
       "gender                                 1.000  1.000  1.0  \n",
       "SeniorCitizen                          0.000  0.000  1.0  \n",
       "Partner                                0.000  1.000  1.0  \n",
       "Dependents                             0.000  1.000  1.0  \n",
       "tenure                                 0.394  0.761  1.0  \n",
       "PhoneService                           1.000  1.000  1.0  \n",
       "Contract                               0.000  0.500  1.0  \n",
       "PaperlessBilling                       1.000  1.000  1.0  \n",
       "MonthlyCharges                         0.518  0.713  1.0  \n",
       "TotalCharges                           0.476  0.723  1.0  \n",
       "Churn                                  0.000  1.000  1.0  \n",
       "OnlineSecurity_No internet service     0.000  0.000  1.0  \n",
       "OnlineSecurity_Yes                     0.000  1.000  1.0  \n",
       "MultipleLines_No phone service         0.000  0.000  1.0  \n",
       "MultipleLines_Yes                      0.000  1.000  1.0  \n",
       "InternetService_Fiber optic            0.000  1.000  1.0  \n",
       "InternetService_No                     0.000  0.000  1.0  \n",
       "StreamingMovies_No internet service    0.000  0.000  1.0  \n",
       "StreamingMovies_Yes                    0.000  1.000  1.0  \n",
       "TechSupport_No internet service        0.000  0.000  1.0  \n",
       "TechSupport_Yes                        0.000  1.000  1.0  \n",
       "PaymentMethod_Credit card (automatic)  0.000  0.000  1.0  \n",
       "PaymentMethod_Electronic check         0.000  1.000  1.0  \n",
       "PaymentMethod_Mailed check             0.000  0.000  1.0  \n",
       "OnlineBackup_No internet service       0.000  0.000  1.0  \n",
       "OnlineBackup_Yes                       0.000  1.000  1.0  \n",
       "StreamingTV_No internet service        0.000  0.000  1.0  \n",
       "StreamingTV_Yes                        0.000  1.000  1.0  \n",
       "DeviceProtection_No internet service   0.000  0.000  1.0  \n",
       "DeviceProtection_Yes                   0.000  1.000  1.0  "
      ]
     },
     "execution_count": 25,
     "metadata": {},
     "output_type": "execute_result"
    }
   ],
   "source": [
    "from sklearn.preprocessing import MinMaxScaler\n",
    "mm = MinMaxScaler()\n",
    "\n",
    "for column in [ordinal_variables + numeric_variables]:\n",
    "    df[column] = mm.fit_transform(df[column])\n",
    "    \n",
    "round(df.describe().T, 3)"
   ]
  },
  {
   "cell_type": "markdown",
   "metadata": {},
   "source": [
    "## Visual Analysis\n",
    "1. see gender distribution in the dataset\n",
    "  \n",
    "  It is equal in distribution"
   ]
  },
  {
   "cell_type": "code",
   "execution_count": 26,
   "metadata": {},
   "outputs": [
    {
     "data": {
      "image/png": "[encoded data removed]",
      "text/plain": [
       "<Figure size 432x288 with 1 Axes>"
      ]
     },
     "metadata": {},
     "output_type": "display_data"
    }
   ],
   "source": [
    "sns.set(style=\"whitegrid\")\n",
    "ax = sns.countplot( df['gender'])"
   ]
  },
  {
   "cell_type": "markdown",
   "metadata": {},
   "source": [
    "2. see SeniorCitizen distribution in the dataset\n",
    "   \n",
    "   About 16% customer are Senior Citizen\n"
   ]
  },
  {
   "cell_type": "code",
   "execution_count": 27,
   "metadata": {},
   "outputs": [
    {
     "data": {
      "text/plain": [
       "Text(0.5, 1.0, '% of Senior Citizens')"
      ]
     },
     "execution_count": 27,
     "metadata": {},
     "output_type": "execute_result"
    },
    {
     "data": {
      "image/png": "[encoded data removed]",
      "text/plain": [
       "<Figure size 360x360 with 1 Axes>"
      ]
     },
     "metadata": {},
     "output_type": "display_data"
    }
   ],
   "source": [
    "ax = (df['SeniorCitizen'].value_counts()*100.0 /len(df))\\\n",
    ".plot.pie(autopct='%.1f%%', labels = ['No', 'Yes'],figsize =(5,5), fontsize = 12 )  \n",
    "ax.set_ylabel('Senior Citizens',fontsize = 12)\n",
    "ax.set_title('% of Senior Citizens', fontsize = 12)"
   ]
  },
  {
   "cell_type": "markdown",
   "metadata": {},
   "source": [
    "- Plot dependent and non dependent customers to gender"
   ]
  },
  {
   "cell_type": "code",
   "execution_count": 28,
   "metadata": {},
   "outputs": [
    {
     "data": {
      "text/plain": [
       "([<matplotlib.axis.XTick at 0x1606519e190>,\n",
       "  <matplotlib.axis.XTick at 0x1606519e160>],\n",
       " [Text(0, 0, 'Not a Dependents'), Text(1, 0, 'Dependents')])"
      ]
     },
     "execution_count": 28,
     "metadata": {},
     "output_type": "execute_result"
    },
    {
     "data": {
      "image/png": "[encoded data removed]",
      "text/plain": [
       "<Figure size 432x288 with 1 Axes>"
      ]
     },
     "metadata": {},
     "output_type": "display_data"
    }
   ],
   "source": [
    "sns.set(style=\"whitegrid\")\n",
    "ax = sns.countplot( df['Dependents'], hue= df.Partner)\n",
    "plt.xticks([0,1], ['Not a Dependents', 'Dependents'])"
   ]
  },
  {
   "cell_type": "markdown",
   "metadata": {},
   "source": [
    "- plot contract type counts"
   ]
  },
  {
   "cell_type": "code",
   "execution_count": 29,
   "metadata": {},
   "outputs": [
    {
     "data": {
      "text/plain": [
       "Text(0.5, 1.0, '# of Customers by Contract Type')"
      ]
     },
     "execution_count": 29,
     "metadata": {},
     "output_type": "execute_result"
    },
    {
     "data": {
      "image/png": "[encoded data removed]",
      "text/plain": [
       "<Figure size 432x288 with 1 Axes>"
      ]
     },
     "metadata": {},
     "output_type": "display_data"
    }
   ],
   "source": [
    "ax = df['Contract'].value_counts().plot(kind = 'bar',rot = 0, width = 0.3)\n",
    "ax.set_ylabel('# of Customers')\n",
    "ax.set_title('# of Customers by Contract Type')"
   ]
  },
  {
   "cell_type": "markdown",
   "metadata": {},
   "source": [
    "- How many custmer in this dataset churned ?\n",
    "   \n",
    "   26.578498 percent customer in this dataset churned;\n",
    "   this is unbalanced dataset"
   ]
  },
  {
   "cell_type": "code",
   "execution_count": 30,
   "metadata": {},
   "outputs": [
    {
     "data": {
      "text/plain": [
       "0    73.421502\n",
       "1    26.578498\n",
       "Name: Churn, dtype: float64"
      ]
     },
     "execution_count": 30,
     "metadata": {},
     "output_type": "execute_result"
    },
    {
     "data": {
      "image/png": "[encoded data removed]",
      "text/plain": [
       "<Figure size 432x288 with 1 Axes>"
      ]
     },
     "metadata": {},
     "output_type": "display_data"
    }
   ],
   "source": [
    "sns.set(style=\"whitegrid\")\n",
    "ax = sns.countplot( df['Churn'])\n",
    "((df['Churn']).value_counts() / len(df))*100"
   ]
  },
  {
   "cell_type": "markdown",
   "metadata": {},
   "source": [
    "- see the correlation of churn with other variable"
   ]
  },
  {
   "cell_type": "code",
   "execution_count": 31,
   "metadata": {},
   "outputs": [
    {
     "data": {
      "text/plain": [
       "<AxesSubplot:>"
      ]
     },
     "execution_count": 31,
     "metadata": {},
     "output_type": "execute_result"
    },
    {
     "data": {
      "image/png": "[encoded data removed]",
      "text/plain": [
       "<Figure size 1080x576 with 1 Axes>"
      ]
     },
     "metadata": {},
     "output_type": "display_data"
    }
   ],
   "source": [
    "plt.figure(figsize=(15,8))\n",
    "df2.corr()['Churn'].sort_values(ascending = False).plot(kind='bar')"
   ]
  },
  {
   "cell_type": "markdown",
   "metadata": {},
   "source": [
    "## Dealing with imbalanced data"
   ]
  },
  {
   "cell_type": "code",
   "execution_count": 32,
   "metadata": {},
   "outputs": [],
   "source": [
    "from sklearn.model_selection import train_test_split\n",
    "y, X = df['Churn'], df.drop(columns='Churn')"
   ]
  },
  {
   "cell_type": "code",
   "execution_count": 33,
   "metadata": {},
   "outputs": [],
   "source": [
    "#from imblearn.under_sampling import RandomUnderSampler\n",
    "#undersample = RandomUnderSampler(sampling_strategy='majority')\n",
    "#X_under, y_under = undersample.fit_resample(X, y)\n",
    "#X_train, X_test, y_train, y_test = train_test_split(X_under, y_under, test_size=0.3, random_state=42,stratify=y_under)"
   ]
  },
  {
   "cell_type": "markdown",
   "metadata": {},
   "source": [
    "- Under smapling using TomekLinks"
   ]
  },
  {
   "cell_type": "code",
   "execution_count": 34,
   "metadata": {},
   "outputs": [],
   "source": [
    "#from imblearn.under_sampling import TomekLinks\n",
    "#undersample = TomekLinks(sampling_strategy='majority')\n",
    "#X_under, y_under = undersample.fit_resample(X, y)\n",
    "#X_train, X_test, y_train, y_test = train_test_split(X_under, y_under, test_size=0.3, random_state=42,stratify=y_under)"
   ]
  },
  {
   "cell_type": "markdown",
   "metadata": {},
   "source": [
    "- Over sampling using SMOTE"
   ]
  },
  {
   "cell_type": "code",
   "execution_count": 35,
   "metadata": {},
   "outputs": [],
   "source": [
    "#from imblearn.over_sampling import SMOTE\n",
    "#oversample = SMOTE(sampling_strategy='minority')\n",
    "#X_over, y_over = oversample.fit_resample(X, y)\n",
    "#X_train, X_test, y_train, y_test = train_test_split(X_over, y_over, test_size=0.3, random_state=42,stratify=y_over)"
   ]
  },
  {
   "cell_type": "markdown",
   "metadata": {},
   "source": [
    "- Over-sampling SMOTE followed by under-sampling Tomek"
   ]
  },
  {
   "cell_type": "code",
   "execution_count": 36,
   "metadata": {},
   "outputs": [],
   "source": [
    "from imblearn.combine import SMOTETomek\n",
    "bothsample = SMOTETomek(sampling_strategy='auto')\n",
    "X_both, y_both = bothsample.fit_resample(X, y)\n",
    "X_train, X_test, y_train, y_test = train_test_split(X_both, y_both, test_size=0.30, random_state=42,stratify=y_both)"
   ]
  },
  {
   "cell_type": "markdown",
   "metadata": {},
   "source": [
    "# Machine Learning Implementation\n",
    "1. Hyperparameter tuning\n",
    "2. ML algorithm fitting, prediction\n",
    "3. Result assessment - confusition Matrix, ROC & Precesion/recall curves"
   ]
  },
  {
   "cell_type": "markdown",
   "metadata": {},
   "source": [
    "## 1. KNN ML Model"
   ]
  },
  {
   "cell_type": "code",
   "execution_count": 37,
   "metadata": {},
   "outputs": [],
   "source": [
    "from sklearn.neighbors import KNeighborsClassifier\n",
    "from sklearn.metrics import confusion_matrix, accuracy_score, classification_report, f1_score"
   ]
  },
  {
   "cell_type": "markdown",
   "metadata": {},
   "source": [
    "- Split training and testing data"
   ]
  },
  {
   "cell_type": "markdown",
   "metadata": {},
   "source": [
    "- Find and plot the k - F1 result for KNN ML model"
   ]
  },
  {
   "cell_type": "code",
   "execution_count": 38,
   "metadata": {},
   "outputs": [],
   "source": [
    "max_k = 66\n",
    "f1_scores = list()\n",
    "error_rates = list() # 1-accuracy\n",
    "\n",
    "for k in range(1, max_k):\n",
    "    \n",
    "    knn = KNeighborsClassifier(n_neighbors=k, weights='distance')\n",
    "    knn = knn.fit(X_train, y_train)\n",
    "    \n",
    "    y_pred = knn.predict(X_test)\n",
    "    f1 = f1_score(y_pred, y_test)\n",
    "    f1_scores.append((k, round(f1_score(y_test, y_pred), 4)))\n",
    "    error = 1-round(accuracy_score(y_test, y_pred), 4)\n",
    "    error_rates.append((k, error))\n",
    "    \n",
    "f1_results = pd.DataFrame(f1_scores, columns=['K', 'F1 Score'])\n",
    "error_results = pd.DataFrame(error_rates, columns=['K', 'Error Rate'])"
   ]
  },
  {
   "cell_type": "code",
   "execution_count": 39,
   "metadata": {},
   "outputs": [
    {
     "data": {
      "text/plain": [
       "<Figure size 1800x1200 with 0 Axes>"
      ]
     },
     "metadata": {},
     "output_type": "display_data"
    },
    {
     "data": {
      "image/png": "[encoded data removed]",
      "text/plain": [
       "<Figure size 1080x864 with 1 Axes>"
      ]
     },
     "metadata": {},
     "output_type": "display_data"
    }
   ],
   "source": [
    "# Plot F1 results\n",
    "sns.set_context('talk')\n",
    "sns.set_style('ticks')\n",
    "\n",
    "plt.figure(dpi=300)\n",
    "ax = f1_results.set_index('K').plot( figsize=(15, 12), linewidth=6)\n",
    "ax.set(xlabel='K', ylabel='F1 Score')\n",
    "ax.set_xticks(range(1, max_k, 2));\n",
    "plt.title('KNN F1 Score')\n",
    "plt.savefig('knn_f1.png')"
   ]
  },
  {
   "cell_type": "markdown",
   "metadata": {},
   "source": [
    "- plot k-error rate"
   ]
  },
  {
   "cell_type": "code",
   "execution_count": 40,
   "metadata": {},
   "outputs": [
    {
     "data": {
      "text/plain": [
       "<Figure size 1800x1200 with 0 Axes>"
      ]
     },
     "metadata": {},
     "output_type": "display_data"
    },
    {
     "data": {
      "image/png": "[encoded data removed]",
      "text/plain": [
       "<Figure size 1080x864 with 1 Axes>"
      ]
     },
     "metadata": {},
     "output_type": "display_data"
    }
   ],
   "source": [
    "sns.set_context('talk')\n",
    "sns.set_style('ticks')\n",
    "\n",
    "plt.figure(dpi=300)\n",
    "ax = error_results.set_index('K').plot( figsize=(15, 12), linewidth=6)\n",
    "ax.set(xlabel='K', ylabel='Error Rate')\n",
    "ax.set_xticks(range(1, max_k, 2))\n",
    "plt.title('KNN Elbow Curve')\n",
    "plt.savefig('knn_elbow.png')"
   ]
  },
  {
   "cell_type": "markdown",
   "metadata": {},
   "source": [
    "- train KNN model, estimate and report outcomes"
   ]
  },
  {
   "cell_type": "code",
   "execution_count": 57,
   "metadata": {},
   "outputs": [
    {
     "name": "stdout",
     "output_type": "stream",
     "text": [
      "              precision    recall  f1-score   support\n",
      "\n",
      "           0       0.88      0.77      0.82      1468\n",
      "           1       0.80      0.90      0.84      1468\n",
      "\n",
      "    accuracy                           0.83      2936\n",
      "   macro avg       0.84      0.83      0.83      2936\n",
      "weighted avg       0.84      0.83      0.83      2936\n",
      "\n",
      "Accuracy score:  0.83\n",
      "F1 Score:  0.84\n"
     ]
    }
   ],
   "source": [
    "knn = KNeighborsClassifier(n_neighbors=1)\n",
    "knn = knn.fit(X_train, y_train)\n",
    "y_pred = knn.predict(X_test)\n",
    "# Preciision, recall, f-score from the multi-class support function\n",
    "print(classification_report(y_test, y_pred))\n",
    "print('Accuracy score: ', round(accuracy_score(y_test, y_pred), 2))\n",
    "print('F1 Score: ', round(f1_score(y_test, y_pred), 2))"
   ]
  },
  {
   "cell_type": "markdown",
   "metadata": {},
   "source": [
    "- plot confusion matrix"
   ]
  },
  {
   "cell_type": "code",
   "execution_count": 58,
   "metadata": {},
   "outputs": [
    {
     "data": {
      "text/plain": [
       "Text(0.5, 76.5, 'Ground Truth')"
      ]
     },
     "execution_count": 58,
     "metadata": {},
     "output_type": "execute_result"
    },
    {
     "data": {
      "image/png": "[encoded data removed]",
      "text/plain": [
       "<Figure size 864x864 with 2 Axes>"
      ]
     },
     "metadata": {},
     "output_type": "display_data"
    }
   ],
   "source": [
    "from sklearn.metrics import roc_curve, precision_recall_curve, confusion_matrix\n",
    "\n",
    "sns.set_context('talk')\n",
    "cm = confusion_matrix(y_test, y_pred)\n",
    "_, ax = plt.subplots(figsize=(12,12))\n",
    "ax = sns.heatmap(cm, annot=True, fmt='d', annot_kws={\"size\": 40, \"weight\": \"bold\"})\n",
    "\n",
    "labels = ['False', 'True']\n",
    "ax.set_xticklabels(labels, fontsize=25);\n",
    "ax.set_yticklabels(labels, fontsize=25);\n",
    "ax.set_ylabel('Prediction', fontsize=30);\n",
    "ax.set_xlabel('Ground Truth', fontsize=30)"
   ]
  },
  {
   "cell_type": "markdown",
   "metadata": {},
   "source": [
    "- Plot ROC and Precision-Recall curve"
   ]
  },
  {
   "cell_type": "code",
   "execution_count": 43,
   "metadata": {},
   "outputs": [
    {
     "data": {
      "image/png": "[encoded data removed]",
      "text/plain": [
       "<Figure size 1152x576 with 2 Axes>"
      ]
     },
     "metadata": {},
     "output_type": "display_data"
    }
   ],
   "source": [
    "sns.set_context('talk')\n",
    "\n",
    "fig, axList = plt.subplots(ncols=2)\n",
    "fig.set_size_inches(16, 8)\n",
    "\n",
    "# Get the probabilities for each of the two categories\n",
    "y_prob = knn.predict_proba(X_test)\n",
    "\n",
    "# Plot the ROC-AUC curve\n",
    "ax = axList[0]\n",
    "\n",
    "fpr, tpr, thresholds = roc_curve(y_test, y_prob[:,1])\n",
    "ax.plot(fpr, tpr, linewidth=5)\n",
    "# It is customary to draw a diagonal dotted line in ROC plots.\n",
    "# This is to indicate completely random prediction. Deviation from this\n",
    "# dotted line towards the upper left corner signifies the power of the model.\n",
    "ax.plot([0, 1], [0, 1], ls='--', lw=.3)\n",
    "ax.set(xlabel='False Positive Rate',\n",
    "       ylabel='True Positive Rate',\n",
    "       xlim=[-.01, 1.01], ylim=[-.01, 1.01],\n",
    "       title='ROC curve')\n",
    "ax.grid(True)\n",
    "\n",
    "# Plot the precision-recall curve\n",
    "ax = axList[1]\n",
    "\n",
    "precision, recall, _ = precision_recall_curve(y_test, y_prob[:,1])\n",
    "ax.plot(recall, precision, linewidth=5)\n",
    "ax.set(xlabel='Recall', ylabel='Precision',\n",
    "       xlim=[-.01, 1.01], ylim=[-.01, 1.01],\n",
    "       title='Precision-Recall curve')\n",
    "ax.grid(True)\n",
    "\n",
    "plt.tight_layout()"
   ]
  },
  {
   "cell_type": "markdown",
   "metadata": {},
   "source": [
    "## 2. Logistic regression ML Model"
   ]
  },
  {
   "cell_type": "markdown",
   "metadata": {},
   "source": [
    "- train logistic regression ML model"
   ]
  },
  {
   "cell_type": "code",
   "execution_count": 44,
   "metadata": {},
   "outputs": [
    {
     "name": "stdout",
     "output_type": "stream",
     "text": [
      "              precision    recall  f1-score   support\n",
      "\n",
      "           0       0.82      0.82      0.82      1468\n",
      "           1       0.82      0.82      0.82      1468\n",
      "\n",
      "    accuracy                           0.82      2936\n",
      "   macro avg       0.82      0.82      0.82      2936\n",
      "weighted avg       0.82      0.82      0.82      2936\n",
      "\n",
      "Accuracy score:  0.82\n",
      "F1 Score:  0.82\n"
     ]
    }
   ],
   "source": [
    "from sklearn.linear_model import LogisticRegressionCV\n",
    "\n",
    "lr_l1 = LogisticRegressionCV(Cs=10, cv=4, penalty='l2', solver='liblinear').fit(X_train, y_train)\n",
    "y_pred = lr_l1.predict(X_test)\n",
    "print(classification_report(y_test, y_pred))\n",
    "print('Accuracy score: ', round(accuracy_score(y_test, y_pred), 2))\n",
    "print('F1 Score: ', round(f1_score(y_test, y_pred), 2))"
   ]
  },
  {
   "cell_type": "markdown",
   "metadata": {},
   "source": [
    "- plot confusion matrix"
   ]
  },
  {
   "cell_type": "code",
   "execution_count": 45,
   "metadata": {},
   "outputs": [
    {
     "data": {
      "text/plain": [
       "Text(0.5, 76.5, 'Ground Truth')"
      ]
     },
     "execution_count": 45,
     "metadata": {},
     "output_type": "execute_result"
    },
    {
     "data": {
      "image/png": "[encoded data removed]",
      "text/plain": [
       "<Figure size 864x864 with 2 Axes>"
      ]
     },
     "metadata": {},
     "output_type": "display_data"
    }
   ],
   "source": [
    "from sklearn.metrics import roc_curve, precision_recall_curve, confusion_matrix\n",
    "\n",
    "sns.set_context('talk')\n",
    "cm = confusion_matrix(y_test, y_pred)\n",
    "_, ax = plt.subplots(figsize=(12,12))\n",
    "ax = sns.heatmap(cm, annot=True, fmt='d', annot_kws={\"size\": 40, \"weight\": \"bold\"})\n",
    "\n",
    "labels = ['False', 'True']\n",
    "ax.set_xticklabels(labels, fontsize=25);\n",
    "ax.set_yticklabels(labels, fontsize=25);\n",
    "ax.set_ylabel('Prediction', fontsize=30);\n",
    "ax.set_xlabel('Ground Truth', fontsize=30)"
   ]
  },
  {
   "cell_type": "markdown",
   "metadata": {},
   "source": [
    "- Plot ROC and Precision-Recall curve"
   ]
  },
  {
   "cell_type": "code",
   "execution_count": 46,
   "metadata": {},
   "outputs": [
    {
     "data": {
      "image/png": "[encoded data removed]",
      "text/plain": [
       "<Figure size 1152x576 with 2 Axes>"
      ]
     },
     "metadata": {},
     "output_type": "display_data"
    }
   ],
   "source": [
    "sns.set_context('talk')\n",
    "\n",
    "fig, axList = plt.subplots(ncols=2)\n",
    "fig.set_size_inches(16, 8)\n",
    "\n",
    "# Get the probabilities for each of the two categories\n",
    "y_prob = lr_l1.predict_proba(X_test)\n",
    "\n",
    "# Plot the ROC-AUC curve\n",
    "ax = axList[0]\n",
    "\n",
    "fpr, tpr, thresholds = roc_curve(y_test, y_prob[:,1])\n",
    "ax.plot(fpr, tpr, linewidth=5)\n",
    "# It is customary to draw a diagonal dotted line in ROC plots.\n",
    "# This is to indicate completely random prediction. Deviation from this\n",
    "# dotted line towards the upper left corner signifies the power of the model.\n",
    "ax.plot([0, 1], [0, 1], ls='--', lw=.3)\n",
    "ax.set(xlabel='False Positive Rate',\n",
    "       ylabel='True Positive Rate',\n",
    "       xlim=[-.01, 1.01], ylim=[-.01, 1.01],\n",
    "       title='ROC curve')\n",
    "ax.grid(True)\n",
    "\n",
    "# Plot the precision-recall curve\n",
    "ax = axList[1]\n",
    "\n",
    "precision, recall, _ = precision_recall_curve(y_test, y_prob[:,1])\n",
    "ax.plot(recall, precision, linewidth=5)\n",
    "ax.set(xlabel='Recall', ylabel='Precision',\n",
    "       xlim=[-.01, 1.01], ylim=[-.01, 1.01],\n",
    "       title='Precision-Recall curve')\n",
    "ax.grid(True)\n",
    "\n",
    "plt.tight_layout()"
   ]
  },
  {
   "cell_type": "markdown",
   "metadata": {},
   "source": [
    "### 3. Random Forest ML model "
   ]
  },
  {
   "cell_type": "markdown",
   "metadata": {},
   "source": [
    "- train random forest model with hyperparameter, estimate and report outcomes"
   ]
  },
  {
   "cell_type": "code",
   "execution_count": 56,
   "metadata": {},
   "outputs": [
    {
     "name": "stdout",
     "output_type": "stream",
     "text": [
      "              precision    recall  f1-score   support\n",
      "\n",
      "           0       0.87      0.84      0.86      1468\n",
      "           1       0.85      0.88      0.86      1468\n",
      "\n",
      "    accuracy                           0.86      2936\n",
      "   macro avg       0.86      0.86      0.86      2936\n",
      "weighted avg       0.86      0.86      0.86      2936\n",
      "\n",
      "Accuracy score:  0.86\n",
      "F1 Score:  0.86\n"
     ]
    },
    {
     "data": {
      "text/plain": [
       "Text(0.5, 76.5, 'Ground Truth')"
      ]
     },
     "execution_count": 56,
     "metadata": {},
     "output_type": "execute_result"
    },
    {
     "data": {
      "image/png": "[encoded data removed]",
      "text/plain": [
       "<Figure size 864x864 with 2 Axes>"
      ]
     },
     "metadata": {},
     "output_type": "display_data"
    }
   ],
   "source": [
    "from sklearn.ensemble import RandomForestClassifier\n",
    "rf= RandomForestClassifier(n_estimators = 600, random_state=42,warm_start= True, n_jobs= -1, max_features = \"sqrt\", max_depth= 140 ).fit(X_train, y_train)\n",
    "y_pred = rf.predict(X_test)\n",
    "\n",
    "print(classification_report(y_test, y_pred))\n",
    "print('Accuracy score: ', round(accuracy_score(y_test, y_pred), 2))\n",
    "print('F1 Score: ', round(f1_score(y_test, y_pred), 2))\n",
    "\n",
    "\n",
    "from sklearn.metrics import roc_curve, precision_recall_curve, confusion_matrix\n",
    "\n",
    "sns.set_context('talk')\n",
    "cm = confusion_matrix(y_test, y_pred)\n",
    "_, ax = plt.subplots(figsize=(12,12))\n",
    "ax = sns.heatmap(cm, annot=True, fmt='d', annot_kws={\"size\": 40, \"weight\": \"bold\"})\n",
    "\n",
    "labels = ['False', 'True']\n",
    "ax.set_xticklabels(labels, fontsize=25);\n",
    "ax.set_yticklabels(labels, fontsize=25);\n",
    "ax.set_ylabel('Prediction', fontsize=30);\n",
    "ax.set_xlabel('Ground Truth', fontsize=30)"
   ]
  },
  {
   "cell_type": "code",
   "execution_count": 49,
   "metadata": {},
   "outputs": [
    {
     "name": "stdout",
     "output_type": "stream",
     "text": [
      "Fitting 3 folds for each of 100 candidates, totalling 300 fits\n"
     ]
    },
    {
     "name": "stderr",
     "output_type": "stream",
     "text": [
      "[Parallel(n_jobs=-1)]: Using backend LokyBackend with 8 concurrent workers.\n",
      "[Parallel(n_jobs=-1)]: Done  25 tasks      | elapsed:   34.2s\n",
      "[Parallel(n_jobs=-1)]: Done 146 tasks      | elapsed:  3.0min\n",
      "[Parallel(n_jobs=-1)]: Done 300 out of 300 | elapsed:  8.4min finished\n"
     ]
    },
    {
     "name": "stdout",
     "output_type": "stream",
     "text": [
      "{'n_estimators': 600, 'max_features': 'sqrt', 'max_depth': 140}\n"
     ]
    }
   ],
   "source": [
    "from sklearn.model_selection import RandomizedSearchCV\n",
    "# number of trees in random forest\n",
    "n_estimators = [int(x) for x in np.linspace(start = 200, stop = 2000, num = 10)]\n",
    "# max depth\n",
    "max_depth = [int(x) for x in np.linspace(100, 500, num = 11)]\n",
    "max_depth.append(None)\n",
    "max_features = [\"auto\", \"sqrt\",\"log1\"]\n",
    "# create random grid\n",
    "random_grid = {\n",
    " 'n_estimators': n_estimators, #   max_features = [‘auto’, ‘sqrt’,\"log1\"] /n\n",
    " 'max_features': max_features,\n",
    " 'max_depth': max_depth\n",
    " }\n",
    "# Random search of parameters\n",
    "rfc_random = RandomizedSearchCV(estimator = rf, param_distributions = random_grid, n_iter = 100, cv = 3, verbose=2, random_state=42, n_jobs = -1)\n",
    "# Fit the model\n",
    "rfc_random.fit(X_train, y_train)\n",
    "# print results\n",
    "print(rfc_random.best_params_)"
   ]
  },
  {
   "cell_type": "markdown",
   "metadata": {},
   "source": [
    "- Model positive recall is 88 percent which is important in this problem."
   ]
  },
  {
   "cell_type": "code",
   "execution_count": 51,
   "metadata": {},
   "outputs": [
    {
     "data": {
      "image/png": "[encoded data removed]",
      "text/plain": [
       "<Figure size 1152x576 with 2 Axes>"
      ]
     },
     "metadata": {},
     "output_type": "display_data"
    }
   ],
   "source": [
    "sns.set_context('talk')\n",
    "\n",
    "fig, axList = plt.subplots(ncols=2)\n",
    "fig.set_size_inches(16, 8)\n",
    "\n",
    "# Get the probabilities for each of the two categories\n",
    "y_prob = rf.predict_proba(X_test)\n",
    "\n",
    "# Plot the ROC-AUC curve\n",
    "ax = axList[0]\n",
    "\n",
    "fpr, tpr, thresholds = roc_curve(y_test, y_prob[:,1])\n",
    "ax.plot(fpr, tpr, linewidth=5)\n",
    "# It is customary to draw a diagonal dotted line in ROC plots.\n",
    "# This is to indicate completely random prediction. Deviation from this\n",
    "# dotted line towards the upper left corner signifies the power of the model.\n",
    "ax.plot([0, 1], [0, 1], ls='--', lw=.3)\n",
    "ax.set(xlabel='False Positive Rate',\n",
    "       ylabel='True Positive Rate',\n",
    "       xlim=[-.01, 1.01], ylim=[-.01, 1.01],\n",
    "       title='ROC curve')\n",
    "ax.grid(True)\n",
    "\n",
    "# Plot the precision-recall curve\n",
    "ax = axList[1]\n",
    "\n",
    "precision, recall, _ = precision_recall_curve(y_test, y_prob[:,1])\n",
    "ax.plot(recall, precision, linewidth=5)\n",
    "ax.set(xlabel='Recall', ylabel='Precision',\n",
    "       xlim=[-.01, 1.01], ylim=[-.01, 1.01],\n",
    "       title='Precision-Recall curve')\n",
    "ax.grid(True)\n",
    "\n",
    "plt.tight_layout()"
   ]
  },
  {
   "cell_type": "markdown",
   "metadata": {},
   "source": [
    "## Summary Key Findings\n",
    "\n",
    "so far, Random Forest model performed well.\n",
    "\n",
    "- KNN and Randomforest model predicted similar results\n",
    "- RandomForest model preformed good in positive class prediction which is the main focus for this problem with very high recall score (specificity)\n",
    "- our model has a 88% recall. In such problems, a good recall value is expected.\n",
    "- Precision and Recall follows a trade-off, and you need to find a point where your recall, as well as your precision, is more than good but both can't increase simultaneously.\n",
    "#### overall  86%  is a very good result"
   ]
  },
  {
   "cell_type": "markdown",
   "metadata": {},
   "source": [
    "## Suggestions for next steps\n",
    " \n",
    "- some feature could be more importanat and ignoring some will make better model\n",
    "- For this backward feature selection would give better result."
   ]
  }
 ],
 "metadata": {
  "kernelspec": {
   "display_name": "Python 3",
   "language": "python",
   "name": "python3"
  },
  "language_info": {
   "codemirror_mode": {
    "name": "ipython",
    "version": 3
   },
   "file_extension": ".py",
   "mimetype": "text/x-python",
   "name": "python",
   "nbconvert_exporter": "python",
   "pygments_lexer": "ipython3",
   "version": "3.8.5"
  }
 },
 "nbformat": 4,
 "nbformat_minor": 4
}
